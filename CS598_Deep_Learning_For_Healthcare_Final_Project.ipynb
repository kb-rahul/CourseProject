{
  "cells": [
    {
      "cell_type": "markdown",
      "metadata": {
        "id": "view-in-github",
        "colab_type": "text"
      },
      "source": [
        "<a href=\"https://colab.research.google.com/github/kb-rahul/CourseProject/blob/main/CS598_Deep_Learning_For_Healthcare_Final_Project.ipynb\" target=\"_parent\"><img src=\"https://colab.research.google.com/assets/colab-badge.svg\" alt=\"Open In Colab\"/></a>"
      ]
    },
    {
      "cell_type": "code",
      "source": [
        "import pandas as pd"
      ],
      "metadata": {
        "id": "yZM4PBDMRCc_"
      },
      "execution_count": 1,
      "outputs": []
    },
    {
      "cell_type": "code",
      "execution_count": 2,
      "metadata": {
        "colab": {
          "base_uri": "https://localhost:8080/"
        },
        "id": "tFlP8qR9EAEW",
        "outputId": "1e7d2745-765f-4cd7-f91c-bee4d671d86f"
      },
      "outputs": [
        {
          "output_type": "stream",
          "name": "stdout",
          "text": [
            "Drive already mounted at /content/drive; to attempt to forcibly remount, call drive.mount(\"/content/drive\", force_remount=True).\n"
          ]
        }
      ],
      "source": [
        "from google.colab import drive\n",
        "drive.mount(\"/content/drive\")"
      ]
    },
    {
      "cell_type": "markdown",
      "metadata": {
        "id": "bZrO8Ao004k3"
      },
      "source": [
        "# Load Data"
      ]
    },
    {
      "cell_type": "code",
      "execution_count": 3,
      "metadata": {
        "colab": {
          "base_uri": "https://localhost:8080/"
        },
        "id": "pcubO8rgEqXh",
        "outputId": "be7f590b-a25a-48a6-f02b-f2e3294ea7e5"
      },
      "outputs": [
        {
          "output_type": "stream",
          "name": "stderr",
          "text": [
            "/usr/local/lib/python3.7/dist-packages/IPython/core/interactiveshell.py:2882: DtypeWarning: Columns (4,5) have mixed types.Specify dtype option on import or set low_memory=False.\n",
            "  exec(code_obj, self.user_global_ns, self.user_ns)\n"
          ]
        }
      ],
      "source": [
        "# read data\n",
        "df = pd.read_csv(\"/content/drive/My Drive/DLH Final Project/mimic3/NOTEEVENTS.csv\")"
      ]
    },
    {
      "cell_type": "code",
      "execution_count": 4,
      "metadata": {
        "id": "hpdFCQQNhsBr",
        "colab": {
          "base_uri": "https://localhost:8080/",
          "height": 112
        },
        "outputId": "4b23dbb8-0e67-4002-bdcd-e04091a4ff0a"
      },
      "outputs": [
        {
          "output_type": "execute_result",
          "data": {
            "text/plain": [
              "   ROW_ID  SUBJECT_ID   HADM_ID   CHARTDATE CHARTTIME STORETIME  \\\n",
              "0     174       22532  167853.0  2151-08-04       NaN       NaN   \n",
              "1     175       13702  107527.0  2118-06-14       NaN       NaN   \n",
              "\n",
              "            CATEGORY DESCRIPTION  CGID  ISERROR  \\\n",
              "0  Discharge summary      Report   NaN      NaN   \n",
              "1  Discharge summary      Report   NaN      NaN   \n",
              "\n",
              "                                                TEXT  \n",
              "0  Admission Date:  [**2151-7-16**]       Dischar...  \n",
              "1  Admission Date:  [**2118-6-2**]       Discharg...  "
            ],
            "text/html": [
              "\n",
              "  <div id=\"df-2e932e49-a9c2-42d8-9da0-6151730014c1\">\n",
              "    <div class=\"colab-df-container\">\n",
              "      <div>\n",
              "<style scoped>\n",
              "    .dataframe tbody tr th:only-of-type {\n",
              "        vertical-align: middle;\n",
              "    }\n",
              "\n",
              "    .dataframe tbody tr th {\n",
              "        vertical-align: top;\n",
              "    }\n",
              "\n",
              "    .dataframe thead th {\n",
              "        text-align: right;\n",
              "    }\n",
              "</style>\n",
              "<table border=\"1\" class=\"dataframe\">\n",
              "  <thead>\n",
              "    <tr style=\"text-align: right;\">\n",
              "      <th></th>\n",
              "      <th>ROW_ID</th>\n",
              "      <th>SUBJECT_ID</th>\n",
              "      <th>HADM_ID</th>\n",
              "      <th>CHARTDATE</th>\n",
              "      <th>CHARTTIME</th>\n",
              "      <th>STORETIME</th>\n",
              "      <th>CATEGORY</th>\n",
              "      <th>DESCRIPTION</th>\n",
              "      <th>CGID</th>\n",
              "      <th>ISERROR</th>\n",
              "      <th>TEXT</th>\n",
              "    </tr>\n",
              "  </thead>\n",
              "  <tbody>\n",
              "    <tr>\n",
              "      <th>0</th>\n",
              "      <td>174</td>\n",
              "      <td>22532</td>\n",
              "      <td>167853.0</td>\n",
              "      <td>2151-08-04</td>\n",
              "      <td>NaN</td>\n",
              "      <td>NaN</td>\n",
              "      <td>Discharge summary</td>\n",
              "      <td>Report</td>\n",
              "      <td>NaN</td>\n",
              "      <td>NaN</td>\n",
              "      <td>Admission Date:  [**2151-7-16**]       Dischar...</td>\n",
              "    </tr>\n",
              "    <tr>\n",
              "      <th>1</th>\n",
              "      <td>175</td>\n",
              "      <td>13702</td>\n",
              "      <td>107527.0</td>\n",
              "      <td>2118-06-14</td>\n",
              "      <td>NaN</td>\n",
              "      <td>NaN</td>\n",
              "      <td>Discharge summary</td>\n",
              "      <td>Report</td>\n",
              "      <td>NaN</td>\n",
              "      <td>NaN</td>\n",
              "      <td>Admission Date:  [**2118-6-2**]       Discharg...</td>\n",
              "    </tr>\n",
              "  </tbody>\n",
              "</table>\n",
              "</div>\n",
              "      <button class=\"colab-df-convert\" onclick=\"convertToInteractive('df-2e932e49-a9c2-42d8-9da0-6151730014c1')\"\n",
              "              title=\"Convert this dataframe to an interactive table.\"\n",
              "              style=\"display:none;\">\n",
              "        \n",
              "  <svg xmlns=\"http://www.w3.org/2000/svg\" height=\"24px\"viewBox=\"0 0 24 24\"\n",
              "       width=\"24px\">\n",
              "    <path d=\"M0 0h24v24H0V0z\" fill=\"none\"/>\n",
              "    <path d=\"M18.56 5.44l.94 2.06.94-2.06 2.06-.94-2.06-.94-.94-2.06-.94 2.06-2.06.94zm-11 1L8.5 8.5l.94-2.06 2.06-.94-2.06-.94L8.5 2.5l-.94 2.06-2.06.94zm10 10l.94 2.06.94-2.06 2.06-.94-2.06-.94-.94-2.06-.94 2.06-2.06.94z\"/><path d=\"M17.41 7.96l-1.37-1.37c-.4-.4-.92-.59-1.43-.59-.52 0-1.04.2-1.43.59L10.3 9.45l-7.72 7.72c-.78.78-.78 2.05 0 2.83L4 21.41c.39.39.9.59 1.41.59.51 0 1.02-.2 1.41-.59l7.78-7.78 2.81-2.81c.8-.78.8-2.07 0-2.86zM5.41 20L4 18.59l7.72-7.72 1.47 1.35L5.41 20z\"/>\n",
              "  </svg>\n",
              "      </button>\n",
              "      \n",
              "  <style>\n",
              "    .colab-df-container {\n",
              "      display:flex;\n",
              "      flex-wrap:wrap;\n",
              "      gap: 12px;\n",
              "    }\n",
              "\n",
              "    .colab-df-convert {\n",
              "      background-color: #E8F0FE;\n",
              "      border: none;\n",
              "      border-radius: 50%;\n",
              "      cursor: pointer;\n",
              "      display: none;\n",
              "      fill: #1967D2;\n",
              "      height: 32px;\n",
              "      padding: 0 0 0 0;\n",
              "      width: 32px;\n",
              "    }\n",
              "\n",
              "    .colab-df-convert:hover {\n",
              "      background-color: #E2EBFA;\n",
              "      box-shadow: 0px 1px 2px rgba(60, 64, 67, 0.3), 0px 1px 3px 1px rgba(60, 64, 67, 0.15);\n",
              "      fill: #174EA6;\n",
              "    }\n",
              "\n",
              "    [theme=dark] .colab-df-convert {\n",
              "      background-color: #3B4455;\n",
              "      fill: #D2E3FC;\n",
              "    }\n",
              "\n",
              "    [theme=dark] .colab-df-convert:hover {\n",
              "      background-color: #434B5C;\n",
              "      box-shadow: 0px 1px 3px 1px rgba(0, 0, 0, 0.15);\n",
              "      filter: drop-shadow(0px 1px 2px rgba(0, 0, 0, 0.3));\n",
              "      fill: #FFFFFF;\n",
              "    }\n",
              "  </style>\n",
              "\n",
              "      <script>\n",
              "        const buttonEl =\n",
              "          document.querySelector('#df-2e932e49-a9c2-42d8-9da0-6151730014c1 button.colab-df-convert');\n",
              "        buttonEl.style.display =\n",
              "          google.colab.kernel.accessAllowed ? 'block' : 'none';\n",
              "\n",
              "        async function convertToInteractive(key) {\n",
              "          const element = document.querySelector('#df-2e932e49-a9c2-42d8-9da0-6151730014c1');\n",
              "          const dataTable =\n",
              "            await google.colab.kernel.invokeFunction('convertToInteractive',\n",
              "                                                     [key], {});\n",
              "          if (!dataTable) return;\n",
              "\n",
              "          const docLinkHtml = 'Like what you see? Visit the ' +\n",
              "            '<a target=\"_blank\" href=https://colab.research.google.com/notebooks/data_table.ipynb>data table notebook</a>'\n",
              "            + ' to learn more about interactive tables.';\n",
              "          element.innerHTML = '';\n",
              "          dataTable['output_type'] = 'display_data';\n",
              "          await google.colab.output.renderOutput(dataTable, element);\n",
              "          const docLink = document.createElement('div');\n",
              "          docLink.innerHTML = docLinkHtml;\n",
              "          element.appendChild(docLink);\n",
              "        }\n",
              "      </script>\n",
              "    </div>\n",
              "  </div>\n",
              "  "
            ]
          },
          "metadata": {},
          "execution_count": 4
        }
      ],
      "source": [
        "df.head(2)"
      ]
    },
    {
      "cell_type": "markdown",
      "metadata": {
        "id": "ASN9TUHWgnz7"
      },
      "source": [
        "# Data Preprocessing\n",
        "Need to focus on 2 tables\n",
        "1. NOTESEVENTS.csv\n",
        "2. DIAGNOSES_ICD.csv\n",
        "\n",
        "Join tables by <subject_id, hadm_id>\n",
        "\n",
        "Construct 2 datasets from \"TEXT\" field in NOTESEVENTS.csv for each <subject_id, hadm_id> pair (i.e discharge summary for that admission.)\n",
        "\n",
        "X1, y and X2, y\n",
        "x1 = sequence of vectors from word2vec \n",
        "x2 = sequence of vectors from tf-idf\n",
        "y = list of icd codes for <subject_id, hadm_id> i.e. diagnosis maded in ICU admission.\n",
        "\n",
        "Need to focus on 50 and 100 most commonly diagnosed diseases.\n",
        "\n",
        "## Common data preprocessing\n",
        "1. Use NLTK + MetaMap to extract only the symptom related entities (how to use MetaMap is unknown atm.)\n",
        "\n",
        "2. Filter out sections in discharge summaries that are related to symptoms only, ignore others to speed up things.\n",
        "\n",
        "3. Negative filters (e.g. \"no sign of breath problem\").\n",
        "\n",
        "## Data processing for X1 (Word2Vec)\n",
        "1. Generate Word2Vec embeddings (currently using Gensim) using \"TEXT\".\n",
        "\n",
        "## Data processing for X2 (TF-IDF)\n",
        "1. Generate TF-IDF vector for each symptom entity.\n",
        "\n",
        "## Data processing for y\n",
        "1. multi-hot encoding?\n",
        " \n",
        "\n",
        "\n"
      ]
    },
    {
      "cell_type": "code",
      "execution_count": 5,
      "metadata": {
        "id": "TV7TblwfIxta",
        "colab": {
          "base_uri": "https://localhost:8080/"
        },
        "outputId": "69c09b4d-58a2-4e11-f739-46455dfe59c0"
      },
      "outputs": [
        {
          "output_type": "stream",
          "name": "stdout",
          "text": [
            "[nltk_data] Downloading package stopwords to /root/nltk_data...\n",
            "[nltk_data]   Package stopwords is already up-to-date!\n"
          ]
        }
      ],
      "source": [
        "import re\n",
        "import nltk\n",
        "\n",
        "from nltk.corpus import stopwords\n",
        "nltk.download('stopwords')\n",
        "\n",
        "eng_stop_words =  stopwords.words('english')\n",
        "\n",
        "class MySentences(object):\n",
        "    def __init__(self, dframe):\n",
        "        self.dframe = dframe\n",
        "    \n",
        "    # TODO: Keeping only alpha numeric characters and spaces for now.\n",
        "    # need to make this better. Find some good libraries.\n",
        "    def sanitize_text(self, text):\n",
        "      test = text.strip()\n",
        "      text = re.sub(r'\\s\\s+', ' ', text)\n",
        "      text = re.sub(r'[^a-zA-z0-9\\/\\.\\?\\!\\s;,\\'\\-]', '', text)\n",
        "      text = re.sub(r'[\\.\\-\\/\\?\\!;,]', ' ', text)\n",
        "      text = re.sub(r'[\\[\\]]', '', text)\n",
        "      return text\n",
        "\n",
        "    # TODO: adding some basic checks again need to make it better.\n",
        "    def sanitize_words(self, sentence):\n",
        "      return [w for w in sentence if w not in eng_stop_words and not w.isdigit()]\n",
        "\n",
        "    def __iter__(self):\n",
        "        for idx in range(len(self.dframe)):\n",
        "          text = self.sanitize_text(self.dframe[\"TEXT\"][idx])\n",
        "          yield self.sanitize_words(text.split())"
      ]
    },
    {
      "cell_type": "code",
      "source": [
        "df_icd_codes = pd.read_csv(\"/content/drive/My Drive/DLH Final Project/mimic3/DIAGNOSES_ICD.csv\")"
      ],
      "metadata": {
        "id": "0DQMAoiAPJyh"
      },
      "execution_count": 6,
      "outputs": []
    },
    {
      "cell_type": "code",
      "source": [
        "df_icd_codes.head(2)"
      ],
      "metadata": {
        "colab": {
          "base_uri": "https://localhost:8080/",
          "height": 112
        },
        "id": "jSOWw_j0Pjbm",
        "outputId": "7064dc7d-f472-4c22-e456-f4531501d469"
      },
      "execution_count": 7,
      "outputs": [
        {
          "output_type": "execute_result",
          "data": {
            "text/plain": [
              "   ROW_ID  SUBJECT_ID  HADM_ID  SEQ_NUM ICD9_CODE\n",
              "0    1297         109   172335      1.0     40301\n",
              "1    1298         109   172335      2.0       486"
            ],
            "text/html": [
              "\n",
              "  <div id=\"df-74aa76ce-273f-4601-a7ec-e94acd9c1f64\">\n",
              "    <div class=\"colab-df-container\">\n",
              "      <div>\n",
              "<style scoped>\n",
              "    .dataframe tbody tr th:only-of-type {\n",
              "        vertical-align: middle;\n",
              "    }\n",
              "\n",
              "    .dataframe tbody tr th {\n",
              "        vertical-align: top;\n",
              "    }\n",
              "\n",
              "    .dataframe thead th {\n",
              "        text-align: right;\n",
              "    }\n",
              "</style>\n",
              "<table border=\"1\" class=\"dataframe\">\n",
              "  <thead>\n",
              "    <tr style=\"text-align: right;\">\n",
              "      <th></th>\n",
              "      <th>ROW_ID</th>\n",
              "      <th>SUBJECT_ID</th>\n",
              "      <th>HADM_ID</th>\n",
              "      <th>SEQ_NUM</th>\n",
              "      <th>ICD9_CODE</th>\n",
              "    </tr>\n",
              "  </thead>\n",
              "  <tbody>\n",
              "    <tr>\n",
              "      <th>0</th>\n",
              "      <td>1297</td>\n",
              "      <td>109</td>\n",
              "      <td>172335</td>\n",
              "      <td>1.0</td>\n",
              "      <td>40301</td>\n",
              "    </tr>\n",
              "    <tr>\n",
              "      <th>1</th>\n",
              "      <td>1298</td>\n",
              "      <td>109</td>\n",
              "      <td>172335</td>\n",
              "      <td>2.0</td>\n",
              "      <td>486</td>\n",
              "    </tr>\n",
              "  </tbody>\n",
              "</table>\n",
              "</div>\n",
              "      <button class=\"colab-df-convert\" onclick=\"convertToInteractive('df-74aa76ce-273f-4601-a7ec-e94acd9c1f64')\"\n",
              "              title=\"Convert this dataframe to an interactive table.\"\n",
              "              style=\"display:none;\">\n",
              "        \n",
              "  <svg xmlns=\"http://www.w3.org/2000/svg\" height=\"24px\"viewBox=\"0 0 24 24\"\n",
              "       width=\"24px\">\n",
              "    <path d=\"M0 0h24v24H0V0z\" fill=\"none\"/>\n",
              "    <path d=\"M18.56 5.44l.94 2.06.94-2.06 2.06-.94-2.06-.94-.94-2.06-.94 2.06-2.06.94zm-11 1L8.5 8.5l.94-2.06 2.06-.94-2.06-.94L8.5 2.5l-.94 2.06-2.06.94zm10 10l.94 2.06.94-2.06 2.06-.94-2.06-.94-.94-2.06-.94 2.06-2.06.94z\"/><path d=\"M17.41 7.96l-1.37-1.37c-.4-.4-.92-.59-1.43-.59-.52 0-1.04.2-1.43.59L10.3 9.45l-7.72 7.72c-.78.78-.78 2.05 0 2.83L4 21.41c.39.39.9.59 1.41.59.51 0 1.02-.2 1.41-.59l7.78-7.78 2.81-2.81c.8-.78.8-2.07 0-2.86zM5.41 20L4 18.59l7.72-7.72 1.47 1.35L5.41 20z\"/>\n",
              "  </svg>\n",
              "      </button>\n",
              "      \n",
              "  <style>\n",
              "    .colab-df-container {\n",
              "      display:flex;\n",
              "      flex-wrap:wrap;\n",
              "      gap: 12px;\n",
              "    }\n",
              "\n",
              "    .colab-df-convert {\n",
              "      background-color: #E8F0FE;\n",
              "      border: none;\n",
              "      border-radius: 50%;\n",
              "      cursor: pointer;\n",
              "      display: none;\n",
              "      fill: #1967D2;\n",
              "      height: 32px;\n",
              "      padding: 0 0 0 0;\n",
              "      width: 32px;\n",
              "    }\n",
              "\n",
              "    .colab-df-convert:hover {\n",
              "      background-color: #E2EBFA;\n",
              "      box-shadow: 0px 1px 2px rgba(60, 64, 67, 0.3), 0px 1px 3px 1px rgba(60, 64, 67, 0.15);\n",
              "      fill: #174EA6;\n",
              "    }\n",
              "\n",
              "    [theme=dark] .colab-df-convert {\n",
              "      background-color: #3B4455;\n",
              "      fill: #D2E3FC;\n",
              "    }\n",
              "\n",
              "    [theme=dark] .colab-df-convert:hover {\n",
              "      background-color: #434B5C;\n",
              "      box-shadow: 0px 1px 3px 1px rgba(0, 0, 0, 0.15);\n",
              "      filter: drop-shadow(0px 1px 2px rgba(0, 0, 0, 0.3));\n",
              "      fill: #FFFFFF;\n",
              "    }\n",
              "  </style>\n",
              "\n",
              "      <script>\n",
              "        const buttonEl =\n",
              "          document.querySelector('#df-74aa76ce-273f-4601-a7ec-e94acd9c1f64 button.colab-df-convert');\n",
              "        buttonEl.style.display =\n",
              "          google.colab.kernel.accessAllowed ? 'block' : 'none';\n",
              "\n",
              "        async function convertToInteractive(key) {\n",
              "          const element = document.querySelector('#df-74aa76ce-273f-4601-a7ec-e94acd9c1f64');\n",
              "          const dataTable =\n",
              "            await google.colab.kernel.invokeFunction('convertToInteractive',\n",
              "                                                     [key], {});\n",
              "          if (!dataTable) return;\n",
              "\n",
              "          const docLinkHtml = 'Like what you see? Visit the ' +\n",
              "            '<a target=\"_blank\" href=https://colab.research.google.com/notebooks/data_table.ipynb>data table notebook</a>'\n",
              "            + ' to learn more about interactive tables.';\n",
              "          element.innerHTML = '';\n",
              "          dataTable['output_type'] = 'display_data';\n",
              "          await google.colab.output.renderOutput(dataTable, element);\n",
              "          const docLink = document.createElement('div');\n",
              "          docLink.innerHTML = docLinkHtml;\n",
              "          element.appendChild(docLink);\n",
              "        }\n",
              "      </script>\n",
              "    </div>\n",
              "  </div>\n",
              "  "
            ]
          },
          "metadata": {},
          "execution_count": 7
        }
      ]
    },
    {
      "cell_type": "code",
      "source": [
        "counts = df_icd_codes[\"ICD9_CODE\"].value_counts().head(50)\n",
        "top_icd_codes = counts.index.to_list()\n",
        "df_admissions_with_top_diseases = df_icd_codes[df_icd_codes[\"ICD9_CODE\"].isin(top_icd_codes)]\n",
        "df_unique_admissions_with_top_diseases = df_admissions_with_top_diseases[[\"SUBJECT_ID\", \"HADM_ID\"]].drop_duplicates()"
      ],
      "metadata": {
        "id": "jNY4o2-_PsJD"
      },
      "execution_count": 8,
      "outputs": []
    },
    {
      "cell_type": "code",
      "source": [
        "len(df_unique_admissions_with_top_diseases)"
      ],
      "metadata": {
        "colab": {
          "base_uri": "https://localhost:8080/"
        },
        "id": "BwGkNFoe2Zku",
        "outputId": "ff7eaa9b-d890-44c1-d892-21a27de53c2c"
      },
      "execution_count": 9,
      "outputs": [
        {
          "output_type": "execute_result",
          "data": {
            "text/plain": [
              "55078"
            ]
          },
          "metadata": {},
          "execution_count": 9
        }
      ]
    },
    {
      "cell_type": "code",
      "source": [
        "filtered_df = pd.merge(df, df_unique_admissions_with_top_diseases, on=[\"SUBJECT_ID\", \"HADM_ID\"])"
      ],
      "metadata": {
        "id": "BGIpZW0wfKaO"
      },
      "execution_count": 10,
      "outputs": []
    },
    {
      "cell_type": "code",
      "source": [
        "filtered_df_disc_sum = filtered_df[filtered_df[\"CATEGORY\"] == 'Discharge summary'].reset_index()\n",
        "print(len(filtered_df_disc_sum))\n",
        "print(filtered_df_disc_sum.head(5))"
      ],
      "metadata": {
        "colab": {
          "base_uri": "https://localhost:8080/"
        },
        "id": "uq8Tyrvl3kgR",
        "outputId": "acf73670-9b3c-42f0-f910-46948c812bbb"
      },
      "execution_count": 11,
      "outputs": [
        {
          "output_type": "stream",
          "name": "stdout",
          "text": [
            "55988\n",
            "   index  ROW_ID  SUBJECT_ID   HADM_ID   CHARTDATE CHARTTIME STORETIME  \\\n",
            "0      0     174       22532  167853.0  2151-08-04       NaN       NaN   \n",
            "1      1     170       22532  167853.0  2151-08-04       NaN       NaN   \n",
            "2     32     175       13702  107527.0  2118-06-14       NaN       NaN   \n",
            "3     79     176       13702  167118.0  2119-05-25       NaN       NaN   \n",
            "4    186     177       13702  196489.0  2124-08-18       NaN       NaN   \n",
            "\n",
            "            CATEGORY DESCRIPTION  CGID  ISERROR  \\\n",
            "0  Discharge summary      Report   NaN      NaN   \n",
            "1  Discharge summary      Report   NaN      NaN   \n",
            "2  Discharge summary      Report   NaN      NaN   \n",
            "3  Discharge summary      Report   NaN      NaN   \n",
            "4  Discharge summary      Report   NaN      NaN   \n",
            "\n",
            "                                                TEXT  \n",
            "0  Admission Date:  [**2151-7-16**]       Dischar...  \n",
            "1  Admission Date:  [**2151-7-16**]       Dischar...  \n",
            "2  Admission Date:  [**2118-6-2**]       Discharg...  \n",
            "3  Admission Date:  [**2119-5-4**]              D...  \n",
            "4  Admission Date:  [**2124-7-21**]              ...  \n"
          ]
        }
      ]
    },
    {
      "cell_type": "markdown",
      "metadata": {
        "id": "LtkOmANy0TNN"
      },
      "source": [
        "Test code for sentence generator"
      ]
    },
    {
      "cell_type": "code",
      "execution_count": 12,
      "metadata": {
        "id": "MpcGs80SV-tO",
        "colab": {
          "base_uri": "https://localhost:8080/"
        },
        "outputId": "e966ce51-6202-4795-f58c-1e36ef1744c2"
      },
      "outputs": [
        {
          "output_type": "stream",
          "name": "stdout",
          "text": [
            "['Admission', 'Date', 'Discharge', 'Date', 'Service', 'ADDENDUM', 'RADIOLOGIC', 'STUDIES', 'Radiologic', 'studies', 'also', 'included', 'chest', 'CT', 'confirmed', 'cavitary', 'lesions', 'left', 'lung', 'apex', 'consistent', 'infectious', 'process', 'tuberculosis', 'This', 'also', 'moderate', 'sized', 'left', 'pleural', 'effusion', 'HEAD', 'CT', 'Head', 'CT', 'showed', 'intracranial', 'hemorrhage', 'mass', 'effect', 'old', 'infarction', 'consistent', 'past', 'medical', 'history', 'ABDOMINAL', 'CT', 'Abdominal', 'CT', 'showed', 'lesions', 'T10', 'sacrum', 'likely', 'secondary', 'osteoporosis', 'These', 'followed', 'repeat', 'imaging', 'outpatient', 'First', 'Name8', 'NamePattern2', 'First', 'Name4', 'NamePattern1', 'Last', 'Name', 'NamePattern1', 'M', 'D', 'MD', 'Number1', 'Dictated', 'ByHospital', 'MEDQUIST36', 'D', 'T', 'JOB', 'Job', 'Number']\n",
            "['Admission', 'Date', 'Discharge', 'Date', 'HISTORY', 'OF', 'PRESENT', 'ILLNESS', 'The', 'patient', 'year', 'old', 'African', 'American', 'female', 'morning', 'found', 'floor', 'unair', 'conditioned', 'home', 'relative', 'heat', 'wave', 'She', 'conscious', 'The', 'family', 'reports', 'drinking', 'much', 'feeling', 'well', 'one', 'day', 'prior', 'admission', 'The', 'family', 'also', 'reports', 'productive', 'cough', 'lb', 'weight', 'loss', 'last', 'three', 'months', 'shortness', 'breath', 'last', 'months', 'worsened', 'exertion', 'increasing', 'edema', 'The', 'patient', 'taken', 'Emergency', 'Department', 'rectal', 'irregular', 'Blood', 'pressure', 'respiratory', 'rate', 'Cooling', 'measures', 'started', 'Emergency', 'Department', 'She', 'placed', 'oxygen', 'nonrebreather', 'mask', 'The', 'patient', 'gradually', 'became', 'alert', 'oriented', 'times', 'two', 'In', 'Emergency', 'Department', 'subsequently', 'became', 'hypotensive', 'blood', 'pressure', 'heart', 'rate', 'irregular', 'More', 'aggressive', 'fluid', 'resuscitation', 'started', 'She', 'briefly', 'placed', 'Norepinephrine', 'drip', 'hemodynamic', 'instability', 'later', 'changed', 'Levophed', 'drip', 'A', 'central', 'line', 'placed', 'The', \"patient's\", 'temperature', 'gradually', 'came', 'several', 'hours', 'Laboratory', 'studies', 'blood', 'cultures', 'drawn', 'Chest', 'x', 'ray', 'done', 'Electrocardiogram', 'urinalysis', 'arterial', 'blood', 'gases', 'doneand', 'patient', 'started', 'broad', 'spectrum', 'antibiotics', 'PAST', 'MEDICAL', 'HISTORY', 'Cardiomyopathy', 'idiopathic', 'echocardiogram', 'showed', 'ejection', 'fraction', 'Hypertension', 'Pulmonary', 'hypertension', 'Chronic', 'atrial', 'fibrillation', 'Intermittent', 'left', 'bundle', 'branch', 'block', 'History', 'anemia', 'heme', 'positive', 'stools', 'previously', 'refused', 'colonoscopy', 'History', 'previous', 'pulmonary', 'embolism', 'History', 'previous', 'stroke', 'History', 'previous', 'myocardial', 'infarction', 'undocumented', 'Chronic', 'right', 'sided', 'pleural', 'effusion', 'first', 'found', 'History', 'multiple', 'episodes', 'cellulitis', 'Claustrophobia', 'MEDICATIONS', 'ON', 'ADMISSION', 'Coumadin', 'mg', 'alternating', 'mg', 'q', 'Lasix', 'mg', 'q', 'Lisinopril', 'mg', 'q', 'Diltiazem', 'mg', 'q', 'Digoxin', 'mg', 'q', 'ALLERGIES', 'No', 'known', 'drug', 'allergies', 'SOCIAL', 'HISTORY', 'The', 'patient', 'African', 'American', 'female', 'lived', 'alone', 'Family', 'checks', 'often', 'lives', 'nearby', 'FAMILY', 'HISTORY', 'There', 'family', 'history', 'colon', 'cancer', 'PHYSICAL', 'EXAMINATION', 'On', 'physical', 'examination', 'noted', 'Emergency', 'Department', 'Medicine', 'Intensive', 'Care', 'Unit', 'notes', 'General', 'thin', 'malnourished', 'African', 'American', 'female', 'disoriented', 'Head', 'eyes', 'ears', 'nose', 'throat', 'pupils', 'equal', 'round', 'reactive', 'light', 'extraocular', 'movements', 'intact', 'Dry', 'mucous', 'membranes', 'Oropharynx', 'clear', 'Neck', 'supple', 'Jugulovenous', 'distension', 'noted', 'cm', 'Lungs', 'bibasilar', 'crackles', 'denies', 'cough', 'Rhonchi', 'throughout', 'No', 'wheezes', 'Cardiovascular', 'irregularly', 'irregular', 'rhythm', 'II', 'VI', 'systolic', 'murmur', 'Abdominal', 'positive', 'bowel', 'sounds', 'soft', 'nontender', 'nondistended', 'rebound', 'guarding', 'No', 'masses', 'Guaiac', 'positive', 'rectal', 'examination', 'Extremities', 'edema', 'severe', 'chronic', 'venous', 'insufficiency', 'stasis', 'dermatitis', 'lower', 'extremities', 'pulses', 'bilaterally', 'Neurological', 'photophobia', 'The', 'patient', 'waxes', 'wanes', 'disorientation', 'LABORATORY', 'DATA', 'Complete', 'blood', 'count', 'showed', 'white', 'count', 'hematocrit', 'platelets', 'differential', 'neutrophils', 'lymphocytes', 'monocyte', 'Chem', 'sodium', 'potassium', 'chloride', 'bicarbonate', 'BUN', 'creatinine', 'glucose', 'PT', 'INR', 'PTT', 'Lactate', 'calcium', 'magnesium', 'prostate', 'CK', 'alkaline', 'phosphatase', 'total', 'bilirubin', 'ALT', 'AST', 'Electrocardiogram', 'showed', 'atrial', 'fibrillation', 'rate', 'left', 'bundle', 'branch', 'block', 'Chest', 'x', 'ray', 'showed', 'possible', 'interstitial', 'edema', 'persistent', 'right', 'basilar', 'opacity', 'could', 'represent', 'pleural', 'thickening', 'effusion', 'possible', 'infection', 'process', 'right', 'lung', 'Infection', 'could', 'excluded', 'New', 'opacities', 'left', 'lung', 'apex', 'concerning', 'acute', 'infection', 'INTENSIVE', 'CARE', 'UNIT', 'COURSE', 'In', 'Medicine', 'Intensive', 'Care', 'Unit', 'pressors', 'discontinued', 'hours', 'admission', 'secondary', 'improved', 'hemodynamic', 'instability', 'Repeat', 'chest', 'x', 'ray', 'showed', 'possible', 'pneumonia', 'lower', 'lobes', 'cavitary', 'lesion', 'left', 'upper', 'lobe', 'concerning', 'tuberculosis', 'The', 'patient', 'subsequently', 'placed', 'negative', 'pressure', 'room', 'respiratory', 'precautions', 'started', 'The', 'patient', 'also', 'three', 'cycles', 'induced', 'sputums', 'acid', 'fast', 'bacillus', 'smear', 'culture', 'Antibiotics', 'continued', 'On', 'hospital', 'day', 'patient', 'began', 'taking', 'p', 'She', 'remained', 'afebrile', 'throughout', 'hospital', 'course', 'On', 'hospital', 'day', 'patient', 'transferred', 'Medicine', 'Service', 'acid', 'fast', 'bacillus', 'smear', 'hospital', 'day', 'came', 'back', 'moderately', 'positive', 'acid', 'fast', 'bacilli', 'HOSPITAL', 'COURSE', 'Infectious', 'disease', 'As', 'noted', 'repeat', 'chest', 'x', 'ray', 'showed', 'cavitary', 'lesions', 'left', 'apex', 'On', 'hospital', 'day', 'patient', 'placed', 'isolation', 'respiratory', 'precautions', 'negative', 'pressure', 'isolation', 'room', 'Acid', 'fast', 'sputums', 'times', 'three', 'taken', 'acid', 'fast', 'bacilli', 'On', 'hospital', 'day', 'sputum', 'Doctor', 'Last', 'Name', 'hospital', 'day', 'showed', 'positive', 'acid', 'fast', 'bacilli', 'Infectious', 'Disease', 'consult', 'called', 'On', 'hospital', 'day', 'patient', 'started', 'Isoniazid', 'Rifampin', 'Pyrazinamide', 'pulmonary', 'TB', 'Ethambutol', 'started', 'hospital', 'day', 'Infectious', 'Control', 'Department', 'Public', 'Health', 'notified', 'got', 'touch', 'family', 'members', 'hospital', 'staff', 'The', 'patient', 'completed', 'seven', 'day', 'course', 'Ceftriaxone', 'Azithromycin', 'five', 'days', 'question', 'aspiration', 'pneumonia', 'All', \"patient's\", 'blood', 'cultures', 'sputum', 'urine', 'cultures', 'She', 'Clostridium', 'difficile', 'negative', 'RPR', 'negative', 'There', 'three', 'attempts', 'one', 'fluoroscopy', 'guided', 'lumbar', 'puncture', 'evaluate', 'meningeal', 'tuberculosis', 'unsuccessful', 'due', 'severe', 'degenerative', 'joint', 'disease', 'spine', 'Ultimately', 'decided', 'low', 'suspicion', 'CNS', 'TB', 'given', 'patients', 'improvement', 'mental', 'status', 'Final', 'recommendations', 'duration', 'antituberculosis', 'regimen', 'given', 'later', 'date', 'Infectious', 'Disease', 'Service', 'Sensitivities', 'pending', 'tuberculosis', 'Tuberculosis', 'confirmed', 'PCR', 'gene', 'probe', 'The', 'patient', 'remained', 'throughout', 'rest', 'hospital', 'day', 'throughout', 'hospital', 'course', 'isolation', 'negative', 'pressure', 'room', 'respiratory', 'precautions', 'She', 'remain', 'negative', 'acid', 'fast', 'bacillus', 'cultures', 'three', 'sputums', 'Sputum', 'hospital', 'day', 'positive', 'acid', 'fast', 'bacilli', 'thus', 'remamined', 'isolation', 'Pulmonary', 'The', \"patient's\", 'initial', 'acute', 'respiratory', 'acidosis', 'corrected', 'resolution', 'hypoventilation', 'secondary', 'carbon', 'dioxide', 'retention', 'dehydration', 'In', 'Medicine', 'Intensive', 'Care', 'Unit', 'followed', 'repeated', 'arterial', 'blood', 'gases', 'The', 'patient', 'denied', 'shortness', 'breath', 'throughout', 'She', 'positive', 'productive', 'cough', 'The', 'patient', 'episode', 'somnolence', 'supplemental', 'oxygen', 'turned', 'secondary', 'carbon', 'dioxide', 'retention', 'Somnolence', 'resolved', 'supplemental', 'oxygen', 'decreased', 'She', 'kept', 'oxygen', 'approximately', 'liter', 'keep', 'saturations', 'On', 'hospital', 'day', 'thoracentesis', 'performed', 'new', 'left', 'effusion', 'complications', 'showed', 'white', 'blood', 'cells', 'l', 'red', 'blood', 'cells', 'differential', 'neutrophils', 'lymphocytes', 'monocytes', 'eosinophils', 'Protein', 'glucose', 'LDH', 'PH', 'Gram', 'stain', 'negative', 'Doctor', 'First', 'Name', 'negative', 'Smear', 'negative', 'Effusion', 'consistent', 'transudative', 'process', 'On', 'hospital', 'day', 'thoracentesis', 'performed', 'right', 'pleural', 'effusion', 'red', 'blood', 'cells', 'red', 'blood', 'cells', 'protein', 'glucose', 'LDH', 'PH', 'gram', 'stain', 'negative', 'At', 'time', 'discharge', 'Doctor', 'First', 'Name', 'still', 'pending', 'smears', 'negative', 'Cultures', 'time', 'still', 'pending', 'pleural', 'effusions', 'negative', 'malignant', 'cells', 'Cardiovascular', 'As', 'noted', 'patient', 'rapid', 'atrial', 'fibrillation', 'initially', 'By', 'hospital', 'day', 'throughout', 'course', 'patient', 'remained', 'rate', 'control', 'atrial', 'fibrillation', 'Digoxin', 'Lasix', 'Metoprolol', 'started', 'Lisinopril', 'also', 'restarted', 'Diltiazem', 'discontinued', 'The', 'patient', 'found', 'troponin', 'leak', 'Troponin', 'peak', 'noted', 'CK', 'MB', 'ranged', 'CKs', 'ranged', 'It', 'thought', 'high', 'troponin', 'CKs', 'secondary', 'myocardial', 'damage', 'suffered', 'heat', 'stroke', 'Echocardiogram', 'hospital', 'day', 'showed', 'right', 'atrium', 'markedly', 'dilated', 'mild', 'symmetric', 'left', 'ventricular', 'hypertrophy', 'severe', 'global', 'ventricular', 'hypokinesis', 'severely', 'depressed', 'left', 'ventricular', 'systolic', 'function', 'pulmonary', 'hypertension', 'There', 'question', 'marantic', 'endocarditis', 'versus', 'degenerative', 'changes', 'aortic', 'valve', 'There', 'significant', 'aortic', 'valve', 'stenosis', 'aortic', 'regurgitation', 'Prior', 'previous', 'report', 'significant', 'change', 'regards', 'left', 'ventricular', 'function', 'On', 'hospital', 'day', 'patient', 'underwent', 'repeat', 'echocardiogram', 'showed', 'left', 'atrium', 'moderately', 'dilated', 'right', 'atrium', 'markedly', 'dilated', 'left', 'ventricular', 'wall', 'thickness', 'normal', 'The', 'overall', 'left', 'ventricular', 'systolic', 'function', 'time', 'considered', 'normal', 'greater', 'There', 'mild', 'moderate', 'mitral', 'regurgitation', 'severe', 'tricuspid', 'regurgitation', 'could', 'rule', 'marantic', 'endocarditis', 'though', 'echogenic', 'density', 'noted', 'aortic', 'cusps', 'consistent', 'degenerative', 'changes', 'The', 'patient', 'subsequently', 'evaluated', 'infective', 'endocarditis', 'blood', 'cultures', 'times', 'three', 'computerized', 'tomography', 'scan', 'head', 'looking', 'signs', 'emboli', 'Computerized', 'tomography', 'scan', 'head', 'results', 'subsequently', 'pending', 'time', 'dictation', 'Digoxin', 'level', 'discharge', 'It', 'recommendation', 'Medicine', 'Staff', 'restart', 'Coumadin', 'mg', 'approximately', 'two', 'days', 'discharge', 'rehabilitation', 'hospital', 'follow', 'INRs', 'every', 'day', 'therapeutic', 'range', 'met', 'We', 'low', 'suspicion', 'infective', 'endocarditis', 'Heme', 'Coumadin', 'held', 'secondary', 'supertherapeutic', 'INR', 'INR', 'peaked', 'Vitamin', 'K', 'times', 'one', 'given', 'INR', 'normalized', 'hospital', 'day', 'Hematocrit', 'stable', 'hospital', 'day', 'hematocrit', 'found', 'secondary', 'occult', 'gastrointestinal', 'bleed', 'The', 'patient', 'transfused', 'unit', 'well', 'tolerated', 'Follow', 'hematocrit', 'Hematocrit', 'remained', 'stable', 'rest', 'hospital', 'course', 'Renal', 'Baseline', 'creatinine', 'She', 'arrived', 'mild', 'prerenal', 'azotemia', 'diuretics', 'held', 'During', 'hospital', 'course', 'required', 'several', 'boluses', 'low', 'urine', 'output', 'The', 'patient', 'started', 'mobilizing', 'fluids', 'approximately', 'hospital', 'day', 'Urine', 'outpatient', 'remained', 'good', 'thereafter', 'Fluids', 'electrolytes', 'nutrition', 'Initial', 'dehydration', 'treated', 'intravenous', 'fluids', 'She', 'tolerated', 'p', 'throughout', 'placement', 'placed', 'thin', 'pureed', 'diet', 'supplemental', 'Boost', 'breakfast', 'lunch', 'dinner', 'This', 'following', 'swallow', 'nutrition', 'evaluations', 'malnutrition', 'She', 'also', 'placed', 'thiamine', 'folate', 'multivitamin', 'supplements', 'Asymptomatic', 'hypercalcemia', 'noted', 'low', 'setting', 'albumin', 'Free', 'calcium', 'noted', 'free', 'calcium', 'discharge', 'noted', 'During', 'hospital', 'stay', 'potassium', 'rose', 'secondary', 'increased', 'dosage', 'ACE', 'inhibitor', 'subsequently', 'Lisinopril', 'decreased', 'mg', 'time', 'potassium', 'normalized', 'Other', 'laboratory', 'studies', 'follows', 'B12', 'folate', 'PTH', 'hydroxy', 'vitamin', 'D', 'less', 'Neurological', 'Change', 'mental', 'status', 'secondary', 'heat', 'stroke', 'malnutrition', 'Throughout', 'hospital', 'course', \"patient's\", 'mental', 'status', 'alert', 'awake', 'oriented', 'two', 'sometimes', 'three', 'On', 'discharge', 'awake', 'alert', 'oriented', 'times', 'three', 'Head', 'computerized', 'tomography', 'scan', 'hospital', 'day', 'performed', 'results', 'pending', 'time', 'dictation', 'Gastrointestinal', 'The', 'patient', 'history', 'heme', 'positive', 'stools', 'refusal', 'colonoscopy', 'She', 'intermittent', 'guaiac', 'positive', 'stools', 'house', 'She', 'seen', 'Gastrointestinal', 'Service', 'possible', 'occult', 'malignancy', 'versus', 'tuberculosis', 'colitis', 'Colonoscopy', 'performed', 'hospital', 'day', 'showed', 'diverticulosis', 'two', 'polyps', 'right', 'colon', 'subsequently', 'removed', 'biopsied', 'Liver', 'function', 'tests', 'followed', 'q', 'two', 'weeks', 'secondary', 'antituberculosis', 'medications', 'Liver', 'function', 'tests', 'tuberculosis', 'medications', 'started', 'within', 'normal', 'limits', 'ALT', 'ALT', 'LDH', 'alkaline', 'phosphatase', 'bilirubin', 'Our', 'medical', 'team', 'recommended', 'rehabilitation', 'hospital', 'follow', 'liver', 'function', 'tests', 'q', 'two', 'weeks', 'Endomysal', 'antibody', 'within', 'normal', 'limits', 'Endocrine', 'Free', 'cortisol', 'noted', 'The', 'hyperclcemia', 'likely', 'due', 'granulomatous', 'disease', 'TB', 'improved', 'treatment', 'TB', 'Musculoskeletal', 'The', 'patient', 'complained', 'early', 'hip', 'soreness', 'X', 'ray', 'pelvis', 'showed', 'fractures', 'The', 'patient', 'followed', 'physical', 'therapy', 'This', 'improved', 'time', 'Prophylaxis', 'The', 'Zantac', 'stomach', 'heparin', 'deep', 'vein', 'thrombosis', 'fall', 'aspiration', 'precautions', 'maintained', 'throughout', 'hospital', 'stay', 'CONDITION', 'ON', 'DISCHARGE', 'Stable', 'Hospital3', 'rehabilitation', 'DISCHARGE', 'INSTRUCTIONS', 'Maintain', 'respiratory', 'precautions', 'keeping', 'patient', 'isolation', 'negative', 'pressure', 'room', 'The', 'patient', 'continue', 'need', 'physical', 'therapy', 'Her', 'diet', 'regular', 'plus', 'Boost', 'DISCHARGE', 'MEDICATIONS', 'Isoniazid', 'mg', 'p', 'q', 'Rifampin', 'mg', 'p', 'q', 'Pyrazinamide', 'mg', 'q', 'Ethambutol', 'mg', 'p', 'q', 'Pyridoxine', 'mg', 'q', 'Note', 'tuberculosis', 'medications', 'given', 'empty', 'stomach', 'Lisinopril', 'mg', 'q', 'Digoxin', 'mg', 'p', 'q', 'Metoprolol', 'mg', 'b', 'Lasix', 'mg', 'p', 'q', 'Aspirin', 'mg', 'p', 'q', 'Heparin', 'units', 'subcutaneously', 'q', 'hours', 'Ranitidine', 'mg', 'p', 'b', 'Nitroglycerin', 'sublingual', 'mg', 'q', 'minutes', 'maximum', 'three', 'doses', 'Colace', 'mg', 'p', 'b', 'prn', 'constipation', 'Folic', 'mg', 'p', 'q', 'Thiamine', 'mg', 'p', 'q', 'Multivitamin', 'p', 'q', 'Tylenol', 'one', 'two', 'tablets', 'p', 'q', 'hours', 'prn', 'pain', 'Tylenol', 'mg', 'mg', 'p', 'q', 'hours', 'prn', 'fever', 'pain', 'It', 'recommended', 'Coumadin', 'restarted', 'mg', 'p', 'q', 'following', 'INR', 'daily', 'therapeutic', 'dose', 'set', 'The', 'patient', 'also', 'require', 'liver', 'function', 'tests', 'checked', 'q', 'two', 'weeks', 'She', 'due', 'next', 'liver', 'function', 'tests', 'next', 'week', 'The', \"patient's\", 'Digoxin', 'level', 'followed', 'q', 'one', 'two', 'weeks', 'Goal', 'digoxon', 'level', 'FOLLOW', 'UP', 'Follow', 'appointment', 'primary', 'care', 'physician', 'Last', 'Name', 'NamePattern4', 'First', 'Name4', 'NamePattern1', 'Last', 'Name', 'NamePattern1', 'PM', 'Hospital', 'Ward', 'Name', 'Center', 'Location', 'un', 'Pulmonary', 'Dr', 'Last', 'Name', 'STitle', 'AM', 'Hospital1', 'Building', 'Location', 'un', 'Infectious', 'Disease', 'Dr', 'Last', 'Name', 'STitle', 'AM', 'Doctor', 'Last', 'Name', 'Building', 'Location', 'un', 'Fall', 'precautions', 'maintained', 'patient', 'bear', 'weight', 'DISCHARGE', 'DIAGNOSIS', 'Pulmonary', 'tuberculosis', 'reactivated', 'Bilateral', 'pleural', 'effusions', 'atrial', 'fibrillation', 'Cardiomyopathy', 'Left', 'bundle', 'branch', 'block', 'hypercalcemia', 'resolved', 'h', 'CVA', 'h', 'PE', 'First', 'Name8', 'NamePattern2', 'First', 'Name4', 'NamePattern1', 'Last', 'Name', 'NamePattern1', 'M', 'D', 'MD', 'Number1', 'Dictated', 'ByLast', 'Name', 'NamePattern1', 'MEDQUIST36', 'D', 'T', 'JOB', 'Job', 'Number']\n"
          ]
        }
      ],
      "source": [
        "sgen = MySentences(filtered_df_disc_sum)\n",
        "sentences = list()\n",
        "for idx, s in enumerate(sgen):\n",
        "  print(s)\n",
        "  if idx == 1:\n",
        "    break"
      ]
    },
    {
      "cell_type": "markdown",
      "metadata": {
        "id": "Gg-GmTrg0i6h"
      },
      "source": [
        "Word2Vec training using gensim."
      ]
    },
    {
      "cell_type": "code",
      "execution_count": 13,
      "metadata": {
        "id": "xElMsqPx0sc9"
      },
      "outputs": [],
      "source": [
        "import gensim\n",
        "# NOTE: commenting this part so that we dont run this by mistake.\n",
        "# sgen = MySentences(filtered_df_disc_sum) # a memory-friendly iterator\n",
        "# model = gensim.models.Word2Vec(sgen, min_count=5, workers=4, sample=1e-05)\n",
        "# model.save(\"/content/drive/My Drive/DLH Final Project/mimic3/word2vec.model\")"
      ]
    },
    {
      "cell_type": "code",
      "execution_count": 14,
      "metadata": {
        "colab": {
          "base_uri": "https://localhost:8080/"
        },
        "id": "ExAuM0OwB9a5",
        "outputId": "5bfbd4bc-8739-4045-d651-c14895b7947f"
      },
      "outputs": [
        {
          "output_type": "stream",
          "name": "stdout",
          "text": [
            "total 3.9G\n",
            "-rw------- 1 root root  19M Mar 19  2019 DIAGNOSES_ICD.csv\n",
            "-rw------- 1 root root 3.8G Jun 14  2019 NOTEEVENTS.csv\n",
            "-rw------- 1 root root  51M Apr 14 07:48 word2vec-4.model\n",
            "-rw------- 1 root root  78M Apr 13 08:14 word2vec.model\n"
          ]
        }
      ],
      "source": [
        "!ls -lh \"/content/drive/My Drive/DLH Final Project/mimic3/\""
      ]
    },
    {
      "cell_type": "code",
      "source": [
        "# multi-hot encoding for icd_codes for a given admission\n",
        "\n",
        "series_admissions_with_top_diseases_grouped = \\\n",
        "df_admissions_with_top_diseases.groupby(['SUBJECT_ID', \n",
        "                                         'HADM_ID'])['ICD9_CODE'].apply(list)\n",
        "\n",
        "df_admissions_with_top_diseases_grouped = \\\n",
        "series_admissions_with_top_diseases_grouped.to_frame().reset_index()"
      ],
      "metadata": {
        "id": "gGwGhxO0K5Bv"
      },
      "execution_count": 15,
      "outputs": []
    },
    {
      "cell_type": "code",
      "source": [
        "sorted_top_icd_codes = sorted(top_icd_codes)\n",
        "icd_code_to_idx = dict((k, v) for v, k in enumerate(sorted_top_icd_codes))"
      ],
      "metadata": {
        "id": "n-MxiQuQTZWm"
      },
      "execution_count": 16,
      "outputs": []
    },
    {
      "cell_type": "code",
      "source": [
        "# new col to be added to dataframe\n",
        "multi_hot_ecoding_col = list()\n",
        "for idx in range(len(df_admissions_with_top_diseases_grouped)):\n",
        "  icd_codes = df_admissions_with_top_diseases_grouped.iloc[idx]['ICD9_CODE']\n",
        "  encoding = [0] * 50\n",
        "  for code in icd_codes:\n",
        "    encoding[icd_code_to_idx[code]] = 1    \n",
        "  multi_hot_ecoding_col.append(encoding)\n",
        "\n",
        "df_admissions_with_top_diseases_grouped['ICD9_CODE_ENCODED'] = multi_hot_ecoding_col"
      ],
      "metadata": {
        "id": "S7vIzsO9V-63"
      },
      "execution_count": 17,
      "outputs": []
    },
    {
      "cell_type": "code",
      "source": [
        "# df_admissions_with_top_diseases_grouped.head(5)\n",
        "print(len(df_admissions_with_top_diseases_grouped))\n",
        "print(len(filtered_df_disc_sum))\n",
        "# TODO: there are more records in filtered_df_disc_sum than \n",
        "# df_admissions_with_top_diseases_grouped, why??"
      ],
      "metadata": {
        "colab": {
          "base_uri": "https://localhost:8080/"
        },
        "id": "quf2pSjEWwfH",
        "outputId": "b70e89f3-7910-4b7b-9982-219902055fec"
      },
      "execution_count": 18,
      "outputs": [
        {
          "output_type": "stream",
          "name": "stdout",
          "text": [
            "55078\n",
            "55988\n"
          ]
        }
      ]
    },
    {
      "cell_type": "code",
      "source": [
        "filtered_df_disc_sum.head(5)"
      ],
      "metadata": {
        "colab": {
          "base_uri": "https://localhost:8080/",
          "height": 206
        },
        "id": "3zy0UFFS-QTJ",
        "outputId": "88ae5616-323c-4649-eb22-d34543745c40"
      },
      "execution_count": 19,
      "outputs": [
        {
          "output_type": "execute_result",
          "data": {
            "text/plain": [
              "   index  ROW_ID  SUBJECT_ID   HADM_ID   CHARTDATE CHARTTIME STORETIME  \\\n",
              "0      0     174       22532  167853.0  2151-08-04       NaN       NaN   \n",
              "1      1     170       22532  167853.0  2151-08-04       NaN       NaN   \n",
              "2     32     175       13702  107527.0  2118-06-14       NaN       NaN   \n",
              "3     79     176       13702  167118.0  2119-05-25       NaN       NaN   \n",
              "4    186     177       13702  196489.0  2124-08-18       NaN       NaN   \n",
              "\n",
              "            CATEGORY DESCRIPTION  CGID  ISERROR  \\\n",
              "0  Discharge summary      Report   NaN      NaN   \n",
              "1  Discharge summary      Report   NaN      NaN   \n",
              "2  Discharge summary      Report   NaN      NaN   \n",
              "3  Discharge summary      Report   NaN      NaN   \n",
              "4  Discharge summary      Report   NaN      NaN   \n",
              "\n",
              "                                                TEXT  \n",
              "0  Admission Date:  [**2151-7-16**]       Dischar...  \n",
              "1  Admission Date:  [**2151-7-16**]       Dischar...  \n",
              "2  Admission Date:  [**2118-6-2**]       Discharg...  \n",
              "3  Admission Date:  [**2119-5-4**]              D...  \n",
              "4  Admission Date:  [**2124-7-21**]              ...  "
            ],
            "text/html": [
              "\n",
              "  <div id=\"df-d52a56de-745c-48a7-aca4-9ac06255c5e8\">\n",
              "    <div class=\"colab-df-container\">\n",
              "      <div>\n",
              "<style scoped>\n",
              "    .dataframe tbody tr th:only-of-type {\n",
              "        vertical-align: middle;\n",
              "    }\n",
              "\n",
              "    .dataframe tbody tr th {\n",
              "        vertical-align: top;\n",
              "    }\n",
              "\n",
              "    .dataframe thead th {\n",
              "        text-align: right;\n",
              "    }\n",
              "</style>\n",
              "<table border=\"1\" class=\"dataframe\">\n",
              "  <thead>\n",
              "    <tr style=\"text-align: right;\">\n",
              "      <th></th>\n",
              "      <th>index</th>\n",
              "      <th>ROW_ID</th>\n",
              "      <th>SUBJECT_ID</th>\n",
              "      <th>HADM_ID</th>\n",
              "      <th>CHARTDATE</th>\n",
              "      <th>CHARTTIME</th>\n",
              "      <th>STORETIME</th>\n",
              "      <th>CATEGORY</th>\n",
              "      <th>DESCRIPTION</th>\n",
              "      <th>CGID</th>\n",
              "      <th>ISERROR</th>\n",
              "      <th>TEXT</th>\n",
              "    </tr>\n",
              "  </thead>\n",
              "  <tbody>\n",
              "    <tr>\n",
              "      <th>0</th>\n",
              "      <td>0</td>\n",
              "      <td>174</td>\n",
              "      <td>22532</td>\n",
              "      <td>167853.0</td>\n",
              "      <td>2151-08-04</td>\n",
              "      <td>NaN</td>\n",
              "      <td>NaN</td>\n",
              "      <td>Discharge summary</td>\n",
              "      <td>Report</td>\n",
              "      <td>NaN</td>\n",
              "      <td>NaN</td>\n",
              "      <td>Admission Date:  [**2151-7-16**]       Dischar...</td>\n",
              "    </tr>\n",
              "    <tr>\n",
              "      <th>1</th>\n",
              "      <td>1</td>\n",
              "      <td>170</td>\n",
              "      <td>22532</td>\n",
              "      <td>167853.0</td>\n",
              "      <td>2151-08-04</td>\n",
              "      <td>NaN</td>\n",
              "      <td>NaN</td>\n",
              "      <td>Discharge summary</td>\n",
              "      <td>Report</td>\n",
              "      <td>NaN</td>\n",
              "      <td>NaN</td>\n",
              "      <td>Admission Date:  [**2151-7-16**]       Dischar...</td>\n",
              "    </tr>\n",
              "    <tr>\n",
              "      <th>2</th>\n",
              "      <td>32</td>\n",
              "      <td>175</td>\n",
              "      <td>13702</td>\n",
              "      <td>107527.0</td>\n",
              "      <td>2118-06-14</td>\n",
              "      <td>NaN</td>\n",
              "      <td>NaN</td>\n",
              "      <td>Discharge summary</td>\n",
              "      <td>Report</td>\n",
              "      <td>NaN</td>\n",
              "      <td>NaN</td>\n",
              "      <td>Admission Date:  [**2118-6-2**]       Discharg...</td>\n",
              "    </tr>\n",
              "    <tr>\n",
              "      <th>3</th>\n",
              "      <td>79</td>\n",
              "      <td>176</td>\n",
              "      <td>13702</td>\n",
              "      <td>167118.0</td>\n",
              "      <td>2119-05-25</td>\n",
              "      <td>NaN</td>\n",
              "      <td>NaN</td>\n",
              "      <td>Discharge summary</td>\n",
              "      <td>Report</td>\n",
              "      <td>NaN</td>\n",
              "      <td>NaN</td>\n",
              "      <td>Admission Date:  [**2119-5-4**]              D...</td>\n",
              "    </tr>\n",
              "    <tr>\n",
              "      <th>4</th>\n",
              "      <td>186</td>\n",
              "      <td>177</td>\n",
              "      <td>13702</td>\n",
              "      <td>196489.0</td>\n",
              "      <td>2124-08-18</td>\n",
              "      <td>NaN</td>\n",
              "      <td>NaN</td>\n",
              "      <td>Discharge summary</td>\n",
              "      <td>Report</td>\n",
              "      <td>NaN</td>\n",
              "      <td>NaN</td>\n",
              "      <td>Admission Date:  [**2124-7-21**]              ...</td>\n",
              "    </tr>\n",
              "  </tbody>\n",
              "</table>\n",
              "</div>\n",
              "      <button class=\"colab-df-convert\" onclick=\"convertToInteractive('df-d52a56de-745c-48a7-aca4-9ac06255c5e8')\"\n",
              "              title=\"Convert this dataframe to an interactive table.\"\n",
              "              style=\"display:none;\">\n",
              "        \n",
              "  <svg xmlns=\"http://www.w3.org/2000/svg\" height=\"24px\"viewBox=\"0 0 24 24\"\n",
              "       width=\"24px\">\n",
              "    <path d=\"M0 0h24v24H0V0z\" fill=\"none\"/>\n",
              "    <path d=\"M18.56 5.44l.94 2.06.94-2.06 2.06-.94-2.06-.94-.94-2.06-.94 2.06-2.06.94zm-11 1L8.5 8.5l.94-2.06 2.06-.94-2.06-.94L8.5 2.5l-.94 2.06-2.06.94zm10 10l.94 2.06.94-2.06 2.06-.94-2.06-.94-.94-2.06-.94 2.06-2.06.94z\"/><path d=\"M17.41 7.96l-1.37-1.37c-.4-.4-.92-.59-1.43-.59-.52 0-1.04.2-1.43.59L10.3 9.45l-7.72 7.72c-.78.78-.78 2.05 0 2.83L4 21.41c.39.39.9.59 1.41.59.51 0 1.02-.2 1.41-.59l7.78-7.78 2.81-2.81c.8-.78.8-2.07 0-2.86zM5.41 20L4 18.59l7.72-7.72 1.47 1.35L5.41 20z\"/>\n",
              "  </svg>\n",
              "      </button>\n",
              "      \n",
              "  <style>\n",
              "    .colab-df-container {\n",
              "      display:flex;\n",
              "      flex-wrap:wrap;\n",
              "      gap: 12px;\n",
              "    }\n",
              "\n",
              "    .colab-df-convert {\n",
              "      background-color: #E8F0FE;\n",
              "      border: none;\n",
              "      border-radius: 50%;\n",
              "      cursor: pointer;\n",
              "      display: none;\n",
              "      fill: #1967D2;\n",
              "      height: 32px;\n",
              "      padding: 0 0 0 0;\n",
              "      width: 32px;\n",
              "    }\n",
              "\n",
              "    .colab-df-convert:hover {\n",
              "      background-color: #E2EBFA;\n",
              "      box-shadow: 0px 1px 2px rgba(60, 64, 67, 0.3), 0px 1px 3px 1px rgba(60, 64, 67, 0.15);\n",
              "      fill: #174EA6;\n",
              "    }\n",
              "\n",
              "    [theme=dark] .colab-df-convert {\n",
              "      background-color: #3B4455;\n",
              "      fill: #D2E3FC;\n",
              "    }\n",
              "\n",
              "    [theme=dark] .colab-df-convert:hover {\n",
              "      background-color: #434B5C;\n",
              "      box-shadow: 0px 1px 3px 1px rgba(0, 0, 0, 0.15);\n",
              "      filter: drop-shadow(0px 1px 2px rgba(0, 0, 0, 0.3));\n",
              "      fill: #FFFFFF;\n",
              "    }\n",
              "  </style>\n",
              "\n",
              "      <script>\n",
              "        const buttonEl =\n",
              "          document.querySelector('#df-d52a56de-745c-48a7-aca4-9ac06255c5e8 button.colab-df-convert');\n",
              "        buttonEl.style.display =\n",
              "          google.colab.kernel.accessAllowed ? 'block' : 'none';\n",
              "\n",
              "        async function convertToInteractive(key) {\n",
              "          const element = document.querySelector('#df-d52a56de-745c-48a7-aca4-9ac06255c5e8');\n",
              "          const dataTable =\n",
              "            await google.colab.kernel.invokeFunction('convertToInteractive',\n",
              "                                                     [key], {});\n",
              "          if (!dataTable) return;\n",
              "\n",
              "          const docLinkHtml = 'Like what you see? Visit the ' +\n",
              "            '<a target=\"_blank\" href=https://colab.research.google.com/notebooks/data_table.ipynb>data table notebook</a>'\n",
              "            + ' to learn more about interactive tables.';\n",
              "          element.innerHTML = '';\n",
              "          dataTable['output_type'] = 'display_data';\n",
              "          await google.colab.output.renderOutput(dataTable, element);\n",
              "          const docLink = document.createElement('div');\n",
              "          docLink.innerHTML = docLinkHtml;\n",
              "          element.appendChild(docLink);\n",
              "        }\n",
              "      </script>\n",
              "    </div>\n",
              "  </div>\n",
              "  "
            ]
          },
          "metadata": {},
          "execution_count": 19
        }
      ]
    },
    {
      "cell_type": "code",
      "source": [
        "from keybert import KeyBERT\n",
        "\n"
      ],
      "metadata": {
        "id": "O15C34gaTSqh"
      },
      "execution_count": 24,
      "outputs": []
    },
    {
      "cell_type": "code",
      "source": [
        "\n",
        "kw_model = KeyBERT(\"emilyalsentzer/Bio_ClinicalBERT\")\n",
        "keywords = kw_model.extract_keywords(doc)"
      ],
      "metadata": {
        "colab": {
          "base_uri": "https://localhost:8080/"
        },
        "id": "B9uLEKSBUp1X",
        "outputId": "1d70a922-6732-4c0a-d377-fe7faa892769"
      },
      "execution_count": 25,
      "outputs": [
        {
          "output_type": "stream",
          "name": "stderr",
          "text": [
            "WARNING:root:No sentence-transformers model found with name /root/.cache/torch/sentence_transformers/emilyalsentzer_Bio_ClinicalBERT. Creating a new one with MEAN pooling.\n",
            "Some weights of the model checkpoint at /root/.cache/torch/sentence_transformers/emilyalsentzer_Bio_ClinicalBERT were not used when initializing BertModel: ['cls.predictions.transform.dense.bias', 'cls.seq_relationship.bias', 'cls.seq_relationship.weight', 'cls.predictions.transform.dense.weight', 'cls.predictions.decoder.weight', 'cls.predictions.transform.LayerNorm.weight', 'cls.predictions.transform.LayerNorm.bias', 'cls.predictions.bias']\n",
            "- This IS expected if you are initializing BertModel from the checkpoint of a model trained on another task or with another architecture (e.g. initializing a BertForSequenceClassification model from a BertForPreTraining model).\n",
            "- This IS NOT expected if you are initializing BertModel from the checkpoint of a model that you expect to be exactly identical (initializing a BertForSequenceClassification model from a BertForSequenceClassification model).\n"
          ]
        }
      ]
    },
    {
      "cell_type": "code",
      "source": [
        "doc = \"I had fever from the last few days. I took a crocin and It doesn't seem to reduce\"\n",
        "keywords = kw_model.extract_keywords(doc, keyphrase_ngram_range=(3, 3), nr_candidates=20)\n",
        "keywords"
      ],
      "metadata": {
        "colab": {
          "base_uri": "https://localhost:8080/"
        },
        "id": "j-hNrgEFVBwy",
        "outputId": "4c795c14-772a-42cf-a328-0d271f12cf7c"
      },
      "execution_count": 29,
      "outputs": [
        {
          "output_type": "execute_result",
          "data": {
            "text/plain": [
              "[('days took crocin', 0.892),\n",
              " ('took crocin doesn', 0.8845),\n",
              " ('crocin doesn reduce', 0.8679),\n",
              " ('fever days took', 0.799)]"
            ]
          },
          "metadata": {},
          "execution_count": 29
        }
      ]
    },
    {
      "cell_type": "code",
      "source": [
        "from medacy.model.model import Model\n",
        "\n",
        "model = Model.load_external('medacy_model_clinical_notes')"
      ],
      "metadata": {
        "colab": {
          "base_uri": "https://localhost:8080/"
        },
        "id": "E18VGhw1NEAr",
        "outputId": "424b0422-c81b-43a8-931f-0d6f8e2e460f"
      },
      "execution_count": 26,
      "outputs": [
        {
          "output_type": "stream",
          "name": "stdout",
          "text": [
            "[]\n"
          ]
        }
      ]
    },
    {
      "cell_type": "code",
      "source": [
        "annotation = model.predict(\"The patient was prescribed 1 capsule of Advil for 5 days.\")\n",
        "print(annotation)"
      ],
      "metadata": {
        "colab": {
          "base_uri": "https://localhost:8080/"
        },
        "id": "EZt3jZGnQ-1c",
        "outputId": "6d2f26d8-712c-4b39-90d8-0b70073cba51"
      },
      "execution_count": 30,
      "outputs": [
        {
          "output_type": "stream",
          "name": "stdout",
          "text": [
            "[EntTuple(tag='Drug', start=40, end=45, text='Advil'), EntTuple(tag='Duration', start=46, end=56, text='for 5 days')]\n"
          ]
        }
      ]
    },
    {
      "cell_type": "code",
      "source": [
        "from transformers import AutoTokenizer, AutoModelForTokenClassification\n",
        "\n",
        "tokenizer = AutoTokebnizer.from_pretrained(\"samrawal/bert-base-uncased_clinical-ner\")\n",
        "\n",
        "model = AutoModelForTokenClassification.from_pretrained(\"samrawal/bert-base-uncased_clinical-ner\")"
      ],
      "metadata": {
        "colab": {
          "base_uri": "https://localhost:8080/",
          "height": 145,
          "referenced_widgets": [
            "59b2a179036b480783e8174bc6d73f46",
            "5d68449edab140d6ba832b89876e9d39",
            "1050d99139aa42498e3eb9bc5bb24bd0",
            "bf47cc87efb141438121427c61bf1123",
            "b0d2ddb3be364264852888e643e98505",
            "dac3c5f1a6a24cbdae191592613f057c",
            "ff29b5d3e7a84884b002a4470f484ac0",
            "222a4d0af1504dcdae6af332f92a39e9",
            "dd4ed237e89d40868bf319484ff02d3c",
            "3464f66babac46e6ac108048273d6156",
            "d7ab3058c33e42abb282d6464c7b6640",
            "d024635a34194f86a6228beed5bbdc1b",
            "1460c4eea0f34ee6af73d412930f1e0e",
            "36430b18f8ca4c11b14ec9bee1268fe3",
            "f4eb4984b43941958cbe0bdce875141f",
            "f61ed871daeb406a80d4c2106975a33b",
            "88de05eb56ec40cab21eeacb1c613f82",
            "3f48b93e08284cc79aa26e4706f4a372",
            "89282262d1d24feeaf601045f87d0847",
            "188b17c0f6ac4f15b33f885aa8f19fd8",
            "4d287903d552446097ad29ea6fac8e52",
            "88369d84acd24df69b9f09e7fcc6f305",
            "8a2314aece344a6fb65c78e1856e027e",
            "2629b6697a874ef4adeec4e2fe629498",
            "a77af89309074dcb95e27aa81902f48a",
            "a0f97b2f804b497f8e56069f5c463b2d",
            "8d6a925a35b54e9e905d58fe9f228be1",
            "f316d08e94f34009b1ad31e7f54d6f8e",
            "c8d957b4d0d04d06b96d07322fdc366d",
            "7434ffb54eaa441da245f07ce7fe9ce2",
            "0206ed6275e84deda3dc745b4f47bdcd",
            "b3e58566c257424dad609f5d34fc8803",
            "c5c567c8a2c54e2196f96a6b56193fe5",
            "cc05e35ad499413a8d13357703b8fc43",
            "15b220f0cbcc49b1bc9d5498eda86a7e",
            "abc4cd849bc64c10bc0ea2c67846e6b5",
            "af5ed52691f94458ae6e980dbf3fb694",
            "1adf379668064284a231fe8eda637e11",
            "2ea005b985644b3494b2ba4992c9228f",
            "734309def32e431e8886fb448a772b8f",
            "358363d3a2d74bc8acc8dd6bc6ca7280",
            "24fc707e09f84ceda06e115aaa599cef",
            "a4878b114b594d6eb905055c4500fd2e",
            "d798c388230042a39154f93682c9e33b"
          ]
        },
        "id": "RKx8R1LecxjY",
        "outputId": "3317c977-e9c8-4cc3-a749-4926b5498bbb"
      },
      "execution_count": 30,
      "outputs": [
        {
          "output_type": "display_data",
          "data": {
            "text/plain": [
              "Downloading:   0%|          | 0.00/300 [00:00<?, ?B/s]"
            ],
            "application/vnd.jupyter.widget-view+json": {
              "version_major": 2,
              "version_minor": 0,
              "model_id": "59b2a179036b480783e8174bc6d73f46"
            }
          },
          "metadata": {}
        },
        {
          "output_type": "display_data",
          "data": {
            "text/plain": [
              "Downloading:   0%|          | 0.00/895 [00:00<?, ?B/s]"
            ],
            "application/vnd.jupyter.widget-view+json": {
              "version_major": 2,
              "version_minor": 0,
              "model_id": "d024635a34194f86a6228beed5bbdc1b"
            }
          },
          "metadata": {}
        },
        {
          "output_type": "display_data",
          "data": {
            "text/plain": [
              "Downloading:   0%|          | 0.00/226k [00:00<?, ?B/s]"
            ],
            "application/vnd.jupyter.widget-view+json": {
              "version_major": 2,
              "version_minor": 0,
              "model_id": "88de05eb56ec40cab21eeacb1c613f82"
            }
          },
          "metadata": {}
        },
        {
          "output_type": "display_data",
          "data": {
            "text/plain": [
              "Downloading:   0%|          | 0.00/415M [00:00<?, ?B/s]"
            ],
            "application/vnd.jupyter.widget-view+json": {
              "version_major": 2,
              "version_minor": 0,
              "model_id": "cc05e35ad499413a8d13357703b8fc43"
            }
          },
          "metadata": {}
        }
      ]
    },
    {
      "cell_type": "code",
      "source": [
        "from transformers import AutoTokenizer, pipeline,  AutoModelForTokenClassification\n",
        "tokenizer = AutoTokenizer.from_pretrained(\"samrawal/bert-base-uncased_clinical-ner\")\n",
        "model = AutoModelForTokenClassification.from_pretrained(\"samrawal/bert-base-uncased_clinical-ner\")\n",
        "nerpipeline = pipeline('ner', model=model, tokenizer=tokenizer)\n",
        "text = \"I have fever from the last few days\"\n",
        "nerpipeline(text)"
      ],
      "metadata": {
        "colab": {
          "base_uri": "https://localhost:8080/"
        },
        "id": "LknLLOcBc0e5",
        "outputId": "fd28e4c8-9cce-41a7-9030-c3f409e25e8d"
      },
      "execution_count": 36,
      "outputs": [
        {
          "output_type": "execute_result",
          "data": {
            "text/plain": [
              "[{'end': 12,\n",
              "  'entity': 'B-problem',\n",
              "  'index': 3,\n",
              "  'score': 0.99793506,\n",
              "  'start': 7,\n",
              "  'word': 'fever'}]"
            ]
          },
          "metadata": {},
          "execution_count": 36
        }
      ]
    },
    {
      "cell_type": "code",
      "source": [
        "anno = nerpipeline(filtered_df_disc_sum.TEXT[0])\n",
        "filtered_df_disc_sum.TEXT[0][175:183]"
      ],
      "metadata": {
        "colab": {
          "base_uri": "https://localhost:8080/",
          "height": 35
        },
        "id": "Ekgi-ZNZntXM",
        "outputId": "f9106abd-b147-450a-88a1-92c8261b679a"
      },
      "execution_count": 40,
      "outputs": [
        {
          "output_type": "execute_result",
          "data": {
            "text/plain": [
              "'cavitary'"
            ],
            "application/vnd.google.colaboratory.intrinsic+json": {
              "type": "string"
            }
          },
          "metadata": {},
          "execution_count": 40
        }
      ]
    },
    {
      "cell_type": "code",
      "source": [
        "def extract_problems(text):\n",
        "  extractions = nerpipeline(text)\n",
        "  span_extract = []\n",
        "  for extract in extractions:\n",
        "    if 'problem' in extract['entity']:\n",
        "      span_extract.append((extract['start'], extract['end']))\n",
        "  \n",
        "  span_st = span_extract[0][0]\n",
        "  final_span = []\n",
        "  final_end = span_extract[0][1]\n",
        "  for idx, (st, end) in enumerate(span_extract):\n",
        "    if idx == 0:\n",
        "      continue\n",
        "    if st - span_extract[idx-1][1] <= 2:\n",
        "      final_end = end\n",
        "      if idx == len(span_extract) - 1:\n",
        "        final_span.append((span_st, final_end))\n",
        "    else:\n",
        "      final_span.append((span_st, final_end))\n",
        "      span_st = st\n",
        "      final_end = end\n",
        "\n",
        "  text_extracts = [text[st:end].replace(\"\\n\", \" \") for st, end in final_span]\n",
        "  return text_extracts\n",
        "\n",
        "\n",
        "extract_problems(filtered_df_disc_sum.TEXT[0])"
      ],
      "metadata": {
        "colab": {
          "base_uri": "https://localhost:8080/"
        },
        "id": "HUs7JcOki0XV",
        "outputId": "f3e52253-4663-455c-d2aa-1d553526ae12"
      },
      "execution_count": 48,
      "outputs": [
        {
          "output_type": "execute_result",
          "data": {
            "text/plain": [
              "['cavitary lesions in the left lung apex',\n",
              " 'infectious process/tuberculosis',\n",
              " 'moderate-sized left pleural effusion',\n",
              " 'intracranial hemorrhage',\n",
              " 'mass effect',\n",
              " 'old infarction',\n",
              " 'lesions of T10 and sacrum',\n",
              " 'osteoporosis']"
            ]
          },
          "metadata": {},
          "execution_count": 48
        }
      ]
    },
    {
      "cell_type": "code",
      "source": [
        "\n",
        "\n",
        "df_admissions_with_top_diseases_grouped.head(5)"
      ],
      "metadata": {
        "colab": {
          "base_uri": "https://localhost:8080/",
          "height": 206
        },
        "id": "a9Y512DV9eDh",
        "outputId": "daf1536b-bd81-4e9f-a93a-067e97efe928"
      },
      "execution_count": null,
      "outputs": [
        {
          "output_type": "execute_result",
          "data": {
            "text/plain": [
              "   SUBJECT_ID  HADM_ID                   ICD9_CODE  \\\n",
              "0           2   163353         [V3001, V053, V290]   \n",
              "1           3   145834   [0389, 5849, 41071, 4280]   \n",
              "2           5   178980         [V3000, V053, V290]   \n",
              "3           6   107064  [40391, 2767, 2859, V1582]   \n",
              "4           7   118037         [V3001, V053, V290]   \n",
              "\n",
              "                                   ICD9_CODE_ENCODED  \n",
              "0  [0, 0, 0, 0, 0, 0, 0, 0, 0, 0, 0, 0, 0, 0, 0, ...  \n",
              "1  [1, 0, 0, 0, 0, 0, 0, 0, 0, 0, 0, 0, 0, 0, 0, ...  \n",
              "2  [0, 0, 0, 0, 0, 0, 0, 0, 0, 0, 0, 0, 0, 0, 0, ...  \n",
              "3  [0, 0, 0, 0, 0, 0, 0, 0, 1, 0, 1, 0, 0, 0, 0, ...  \n",
              "4  [0, 0, 0, 0, 0, 0, 0, 0, 0, 0, 0, 0, 0, 0, 0, ...  "
            ],
            "text/html": [
              "\n",
              "  <div id=\"df-5c59ad5b-9861-4060-aae0-4282024e39f0\">\n",
              "    <div class=\"colab-df-container\">\n",
              "      <div>\n",
              "<style scoped>\n",
              "    .dataframe tbody tr th:only-of-type {\n",
              "        vertical-align: middle;\n",
              "    }\n",
              "\n",
              "    .dataframe tbody tr th {\n",
              "        vertical-align: top;\n",
              "    }\n",
              "\n",
              "    .dataframe thead th {\n",
              "        text-align: right;\n",
              "    }\n",
              "</style>\n",
              "<table border=\"1\" class=\"dataframe\">\n",
              "  <thead>\n",
              "    <tr style=\"text-align: right;\">\n",
              "      <th></th>\n",
              "      <th>SUBJECT_ID</th>\n",
              "      <th>HADM_ID</th>\n",
              "      <th>ICD9_CODE</th>\n",
              "      <th>ICD9_CODE_ENCODED</th>\n",
              "    </tr>\n",
              "  </thead>\n",
              "  <tbody>\n",
              "    <tr>\n",
              "      <th>0</th>\n",
              "      <td>2</td>\n",
              "      <td>163353</td>\n",
              "      <td>[V3001, V053, V290]</td>\n",
              "      <td>[0, 0, 0, 0, 0, 0, 0, 0, 0, 0, 0, 0, 0, 0, 0, ...</td>\n",
              "    </tr>\n",
              "    <tr>\n",
              "      <th>1</th>\n",
              "      <td>3</td>\n",
              "      <td>145834</td>\n",
              "      <td>[0389, 5849, 41071, 4280]</td>\n",
              "      <td>[1, 0, 0, 0, 0, 0, 0, 0, 0, 0, 0, 0, 0, 0, 0, ...</td>\n",
              "    </tr>\n",
              "    <tr>\n",
              "      <th>2</th>\n",
              "      <td>5</td>\n",
              "      <td>178980</td>\n",
              "      <td>[V3000, V053, V290]</td>\n",
              "      <td>[0, 0, 0, 0, 0, 0, 0, 0, 0, 0, 0, 0, 0, 0, 0, ...</td>\n",
              "    </tr>\n",
              "    <tr>\n",
              "      <th>3</th>\n",
              "      <td>6</td>\n",
              "      <td>107064</td>\n",
              "      <td>[40391, 2767, 2859, V1582]</td>\n",
              "      <td>[0, 0, 0, 0, 0, 0, 0, 0, 1, 0, 1, 0, 0, 0, 0, ...</td>\n",
              "    </tr>\n",
              "    <tr>\n",
              "      <th>4</th>\n",
              "      <td>7</td>\n",
              "      <td>118037</td>\n",
              "      <td>[V3001, V053, V290]</td>\n",
              "      <td>[0, 0, 0, 0, 0, 0, 0, 0, 0, 0, 0, 0, 0, 0, 0, ...</td>\n",
              "    </tr>\n",
              "  </tbody>\n",
              "</table>\n",
              "</div>\n",
              "      <button class=\"colab-df-convert\" onclick=\"convertToInteractive('df-5c59ad5b-9861-4060-aae0-4282024e39f0')\"\n",
              "              title=\"Convert this dataframe to an interactive table.\"\n",
              "              style=\"display:none;\">\n",
              "        \n",
              "  <svg xmlns=\"http://www.w3.org/2000/svg\" height=\"24px\"viewBox=\"0 0 24 24\"\n",
              "       width=\"24px\">\n",
              "    <path d=\"M0 0h24v24H0V0z\" fill=\"none\"/>\n",
              "    <path d=\"M18.56 5.44l.94 2.06.94-2.06 2.06-.94-2.06-.94-.94-2.06-.94 2.06-2.06.94zm-11 1L8.5 8.5l.94-2.06 2.06-.94-2.06-.94L8.5 2.5l-.94 2.06-2.06.94zm10 10l.94 2.06.94-2.06 2.06-.94-2.06-.94-.94-2.06-.94 2.06-2.06.94z\"/><path d=\"M17.41 7.96l-1.37-1.37c-.4-.4-.92-.59-1.43-.59-.52 0-1.04.2-1.43.59L10.3 9.45l-7.72 7.72c-.78.78-.78 2.05 0 2.83L4 21.41c.39.39.9.59 1.41.59.51 0 1.02-.2 1.41-.59l7.78-7.78 2.81-2.81c.8-.78.8-2.07 0-2.86zM5.41 20L4 18.59l7.72-7.72 1.47 1.35L5.41 20z\"/>\n",
              "  </svg>\n",
              "      </button>\n",
              "      \n",
              "  <style>\n",
              "    .colab-df-container {\n",
              "      display:flex;\n",
              "      flex-wrap:wrap;\n",
              "      gap: 12px;\n",
              "    }\n",
              "\n",
              "    .colab-df-convert {\n",
              "      background-color: #E8F0FE;\n",
              "      border: none;\n",
              "      border-radius: 50%;\n",
              "      cursor: pointer;\n",
              "      display: none;\n",
              "      fill: #1967D2;\n",
              "      height: 32px;\n",
              "      padding: 0 0 0 0;\n",
              "      width: 32px;\n",
              "    }\n",
              "\n",
              "    .colab-df-convert:hover {\n",
              "      background-color: #E2EBFA;\n",
              "      box-shadow: 0px 1px 2px rgba(60, 64, 67, 0.3), 0px 1px 3px 1px rgba(60, 64, 67, 0.15);\n",
              "      fill: #174EA6;\n",
              "    }\n",
              "\n",
              "    [theme=dark] .colab-df-convert {\n",
              "      background-color: #3B4455;\n",
              "      fill: #D2E3FC;\n",
              "    }\n",
              "\n",
              "    [theme=dark] .colab-df-convert:hover {\n",
              "      background-color: #434B5C;\n",
              "      box-shadow: 0px 1px 3px 1px rgba(0, 0, 0, 0.15);\n",
              "      filter: drop-shadow(0px 1px 2px rgba(0, 0, 0, 0.3));\n",
              "      fill: #FFFFFF;\n",
              "    }\n",
              "  </style>\n",
              "\n",
              "      <script>\n",
              "        const buttonEl =\n",
              "          document.querySelector('#df-5c59ad5b-9861-4060-aae0-4282024e39f0 button.colab-df-convert');\n",
              "        buttonEl.style.display =\n",
              "          google.colab.kernel.accessAllowed ? 'block' : 'none';\n",
              "\n",
              "        async function convertToInteractive(key) {\n",
              "          const element = document.querySelector('#df-5c59ad5b-9861-4060-aae0-4282024e39f0');\n",
              "          const dataTable =\n",
              "            await google.colab.kernel.invokeFunction('convertToInteractive',\n",
              "                                                     [key], {});\n",
              "          if (!dataTable) return;\n",
              "\n",
              "          const docLinkHtml = 'Like what you see? Visit the ' +\n",
              "            '<a target=\"_blank\" href=https://colab.research.google.com/notebooks/data_table.ipynb>data table notebook</a>'\n",
              "            + ' to learn more about interactive tables.';\n",
              "          element.innerHTML = '';\n",
              "          dataTable['output_type'] = 'display_data';\n",
              "          await google.colab.output.renderOutput(dataTable, element);\n",
              "          const docLink = document.createElement('div');\n",
              "          docLink.innerHTML = docLinkHtml;\n",
              "          element.appendChild(docLink);\n",
              "        }\n",
              "      </script>\n",
              "    </div>\n",
              "  </div>\n",
              "  "
            ]
          },
          "metadata": {},
          "execution_count": 22
        }
      ]
    },
    {
      "cell_type": "code",
      "source": [
        "# create our final dataset we will be working\n",
        "# join df_admissions_with_top_diseases_grouped and filtered_df_disc_sum"
      ],
      "metadata": {
        "id": "IS1LWaH4X6pa"
      },
      "execution_count": null,
      "outputs": []
    }
  ],
  "metadata": {
    "colab": {
      "collapsed_sections": [],
      "name": "CS598 Deep Learning For Healthcare Final Project",
      "provenance": [],
      "history_visible": true,
      "machine_shape": "hm",
      "background_execution": "on",
      "toc_visible": true,
      "include_colab_link": true
    },
    "kernelspec": {
      "display_name": "Python 3",
      "name": "python3"
    },
    "language_info": {
      "name": "python"
    },
    "widgets": {
      "application/vnd.jupyter.widget-state+json": {
        "59b2a179036b480783e8174bc6d73f46": {
          "model_module": "@jupyter-widgets/controls",
          "model_name": "HBoxModel",
          "model_module_version": "1.5.0",
          "state": {
            "_dom_classes": [],
            "_model_module": "@jupyter-widgets/controls",
            "_model_module_version": "1.5.0",
            "_model_name": "HBoxModel",
            "_view_count": null,
            "_view_module": "@jupyter-widgets/controls",
            "_view_module_version": "1.5.0",
            "_view_name": "HBoxView",
            "box_style": "",
            "children": [
              "IPY_MODEL_5d68449edab140d6ba832b89876e9d39",
              "IPY_MODEL_1050d99139aa42498e3eb9bc5bb24bd0",
              "IPY_MODEL_bf47cc87efb141438121427c61bf1123"
            ],
            "layout": "IPY_MODEL_b0d2ddb3be364264852888e643e98505"
          }
        },
        "5d68449edab140d6ba832b89876e9d39": {
          "model_module": "@jupyter-widgets/controls",
          "model_name": "HTMLModel",
          "model_module_version": "1.5.0",
          "state": {
            "_dom_classes": [],
            "_model_module": "@jupyter-widgets/controls",
            "_model_module_version": "1.5.0",
            "_model_name": "HTMLModel",
            "_view_count": null,
            "_view_module": "@jupyter-widgets/controls",
            "_view_module_version": "1.5.0",
            "_view_name": "HTMLView",
            "description": "",
            "description_tooltip": null,
            "layout": "IPY_MODEL_dac3c5f1a6a24cbdae191592613f057c",
            "placeholder": "​",
            "style": "IPY_MODEL_ff29b5d3e7a84884b002a4470f484ac0",
            "value": "Downloading: 100%"
          }
        },
        "1050d99139aa42498e3eb9bc5bb24bd0": {
          "model_module": "@jupyter-widgets/controls",
          "model_name": "FloatProgressModel",
          "model_module_version": "1.5.0",
          "state": {
            "_dom_classes": [],
            "_model_module": "@jupyter-widgets/controls",
            "_model_module_version": "1.5.0",
            "_model_name": "FloatProgressModel",
            "_view_count": null,
            "_view_module": "@jupyter-widgets/controls",
            "_view_module_version": "1.5.0",
            "_view_name": "ProgressView",
            "bar_style": "success",
            "description": "",
            "description_tooltip": null,
            "layout": "IPY_MODEL_222a4d0af1504dcdae6af332f92a39e9",
            "max": 300,
            "min": 0,
            "orientation": "horizontal",
            "style": "IPY_MODEL_dd4ed237e89d40868bf319484ff02d3c",
            "value": 300
          }
        },
        "bf47cc87efb141438121427c61bf1123": {
          "model_module": "@jupyter-widgets/controls",
          "model_name": "HTMLModel",
          "model_module_version": "1.5.0",
          "state": {
            "_dom_classes": [],
            "_model_module": "@jupyter-widgets/controls",
            "_model_module_version": "1.5.0",
            "_model_name": "HTMLModel",
            "_view_count": null,
            "_view_module": "@jupyter-widgets/controls",
            "_view_module_version": "1.5.0",
            "_view_name": "HTMLView",
            "description": "",
            "description_tooltip": null,
            "layout": "IPY_MODEL_3464f66babac46e6ac108048273d6156",
            "placeholder": "​",
            "style": "IPY_MODEL_d7ab3058c33e42abb282d6464c7b6640",
            "value": " 300/300 [00:00&lt;00:00, 5.75kB/s]"
          }
        },
        "b0d2ddb3be364264852888e643e98505": {
          "model_module": "@jupyter-widgets/base",
          "model_name": "LayoutModel",
          "model_module_version": "1.2.0",
          "state": {
            "_model_module": "@jupyter-widgets/base",
            "_model_module_version": "1.2.0",
            "_model_name": "LayoutModel",
            "_view_count": null,
            "_view_module": "@jupyter-widgets/base",
            "_view_module_version": "1.2.0",
            "_view_name": "LayoutView",
            "align_content": null,
            "align_items": null,
            "align_self": null,
            "border": null,
            "bottom": null,
            "display": null,
            "flex": null,
            "flex_flow": null,
            "grid_area": null,
            "grid_auto_columns": null,
            "grid_auto_flow": null,
            "grid_auto_rows": null,
            "grid_column": null,
            "grid_gap": null,
            "grid_row": null,
            "grid_template_areas": null,
            "grid_template_columns": null,
            "grid_template_rows": null,
            "height": null,
            "justify_content": null,
            "justify_items": null,
            "left": null,
            "margin": null,
            "max_height": null,
            "max_width": null,
            "min_height": null,
            "min_width": null,
            "object_fit": null,
            "object_position": null,
            "order": null,
            "overflow": null,
            "overflow_x": null,
            "overflow_y": null,
            "padding": null,
            "right": null,
            "top": null,
            "visibility": null,
            "width": null
          }
        },
        "dac3c5f1a6a24cbdae191592613f057c": {
          "model_module": "@jupyter-widgets/base",
          "model_name": "LayoutModel",
          "model_module_version": "1.2.0",
          "state": {
            "_model_module": "@jupyter-widgets/base",
            "_model_module_version": "1.2.0",
            "_model_name": "LayoutModel",
            "_view_count": null,
            "_view_module": "@jupyter-widgets/base",
            "_view_module_version": "1.2.0",
            "_view_name": "LayoutView",
            "align_content": null,
            "align_items": null,
            "align_self": null,
            "border": null,
            "bottom": null,
            "display": null,
            "flex": null,
            "flex_flow": null,
            "grid_area": null,
            "grid_auto_columns": null,
            "grid_auto_flow": null,
            "grid_auto_rows": null,
            "grid_column": null,
            "grid_gap": null,
            "grid_row": null,
            "grid_template_areas": null,
            "grid_template_columns": null,
            "grid_template_rows": null,
            "height": null,
            "justify_content": null,
            "justify_items": null,
            "left": null,
            "margin": null,
            "max_height": null,
            "max_width": null,
            "min_height": null,
            "min_width": null,
            "object_fit": null,
            "object_position": null,
            "order": null,
            "overflow": null,
            "overflow_x": null,
            "overflow_y": null,
            "padding": null,
            "right": null,
            "top": null,
            "visibility": null,
            "width": null
          }
        },
        "ff29b5d3e7a84884b002a4470f484ac0": {
          "model_module": "@jupyter-widgets/controls",
          "model_name": "DescriptionStyleModel",
          "model_module_version": "1.5.0",
          "state": {
            "_model_module": "@jupyter-widgets/controls",
            "_model_module_version": "1.5.0",
            "_model_name": "DescriptionStyleModel",
            "_view_count": null,
            "_view_module": "@jupyter-widgets/base",
            "_view_module_version": "1.2.0",
            "_view_name": "StyleView",
            "description_width": ""
          }
        },
        "222a4d0af1504dcdae6af332f92a39e9": {
          "model_module": "@jupyter-widgets/base",
          "model_name": "LayoutModel",
          "model_module_version": "1.2.0",
          "state": {
            "_model_module": "@jupyter-widgets/base",
            "_model_module_version": "1.2.0",
            "_model_name": "LayoutModel",
            "_view_count": null,
            "_view_module": "@jupyter-widgets/base",
            "_view_module_version": "1.2.0",
            "_view_name": "LayoutView",
            "align_content": null,
            "align_items": null,
            "align_self": null,
            "border": null,
            "bottom": null,
            "display": null,
            "flex": null,
            "flex_flow": null,
            "grid_area": null,
            "grid_auto_columns": null,
            "grid_auto_flow": null,
            "grid_auto_rows": null,
            "grid_column": null,
            "grid_gap": null,
            "grid_row": null,
            "grid_template_areas": null,
            "grid_template_columns": null,
            "grid_template_rows": null,
            "height": null,
            "justify_content": null,
            "justify_items": null,
            "left": null,
            "margin": null,
            "max_height": null,
            "max_width": null,
            "min_height": null,
            "min_width": null,
            "object_fit": null,
            "object_position": null,
            "order": null,
            "overflow": null,
            "overflow_x": null,
            "overflow_y": null,
            "padding": null,
            "right": null,
            "top": null,
            "visibility": null,
            "width": null
          }
        },
        "dd4ed237e89d40868bf319484ff02d3c": {
          "model_module": "@jupyter-widgets/controls",
          "model_name": "ProgressStyleModel",
          "model_module_version": "1.5.0",
          "state": {
            "_model_module": "@jupyter-widgets/controls",
            "_model_module_version": "1.5.0",
            "_model_name": "ProgressStyleModel",
            "_view_count": null,
            "_view_module": "@jupyter-widgets/base",
            "_view_module_version": "1.2.0",
            "_view_name": "StyleView",
            "bar_color": null,
            "description_width": ""
          }
        },
        "3464f66babac46e6ac108048273d6156": {
          "model_module": "@jupyter-widgets/base",
          "model_name": "LayoutModel",
          "model_module_version": "1.2.0",
          "state": {
            "_model_module": "@jupyter-widgets/base",
            "_model_module_version": "1.2.0",
            "_model_name": "LayoutModel",
            "_view_count": null,
            "_view_module": "@jupyter-widgets/base",
            "_view_module_version": "1.2.0",
            "_view_name": "LayoutView",
            "align_content": null,
            "align_items": null,
            "align_self": null,
            "border": null,
            "bottom": null,
            "display": null,
            "flex": null,
            "flex_flow": null,
            "grid_area": null,
            "grid_auto_columns": null,
            "grid_auto_flow": null,
            "grid_auto_rows": null,
            "grid_column": null,
            "grid_gap": null,
            "grid_row": null,
            "grid_template_areas": null,
            "grid_template_columns": null,
            "grid_template_rows": null,
            "height": null,
            "justify_content": null,
            "justify_items": null,
            "left": null,
            "margin": null,
            "max_height": null,
            "max_width": null,
            "min_height": null,
            "min_width": null,
            "object_fit": null,
            "object_position": null,
            "order": null,
            "overflow": null,
            "overflow_x": null,
            "overflow_y": null,
            "padding": null,
            "right": null,
            "top": null,
            "visibility": null,
            "width": null
          }
        },
        "d7ab3058c33e42abb282d6464c7b6640": {
          "model_module": "@jupyter-widgets/controls",
          "model_name": "DescriptionStyleModel",
          "model_module_version": "1.5.0",
          "state": {
            "_model_module": "@jupyter-widgets/controls",
            "_model_module_version": "1.5.0",
            "_model_name": "DescriptionStyleModel",
            "_view_count": null,
            "_view_module": "@jupyter-widgets/base",
            "_view_module_version": "1.2.0",
            "_view_name": "StyleView",
            "description_width": ""
          }
        },
        "d024635a34194f86a6228beed5bbdc1b": {
          "model_module": "@jupyter-widgets/controls",
          "model_name": "HBoxModel",
          "model_module_version": "1.5.0",
          "state": {
            "_dom_classes": [],
            "_model_module": "@jupyter-widgets/controls",
            "_model_module_version": "1.5.0",
            "_model_name": "HBoxModel",
            "_view_count": null,
            "_view_module": "@jupyter-widgets/controls",
            "_view_module_version": "1.5.0",
            "_view_name": "HBoxView",
            "box_style": "",
            "children": [
              "IPY_MODEL_1460c4eea0f34ee6af73d412930f1e0e",
              "IPY_MODEL_36430b18f8ca4c11b14ec9bee1268fe3",
              "IPY_MODEL_f4eb4984b43941958cbe0bdce875141f"
            ],
            "layout": "IPY_MODEL_f61ed871daeb406a80d4c2106975a33b"
          }
        },
        "1460c4eea0f34ee6af73d412930f1e0e": {
          "model_module": "@jupyter-widgets/controls",
          "model_name": "HTMLModel",
          "model_module_version": "1.5.0",
          "state": {
            "_dom_classes": [],
            "_model_module": "@jupyter-widgets/controls",
            "_model_module_version": "1.5.0",
            "_model_name": "HTMLModel",
            "_view_count": null,
            "_view_module": "@jupyter-widgets/controls",
            "_view_module_version": "1.5.0",
            "_view_name": "HTMLView",
            "description": "",
            "description_tooltip": null,
            "layout": "IPY_MODEL_3f48b93e08284cc79aa26e4706f4a372",
            "placeholder": "​",
            "style": "IPY_MODEL_89282262d1d24feeaf601045f87d0847",
            "value": "Downloading: 100%"
          }
        },
        "36430b18f8ca4c11b14ec9bee1268fe3": {
          "model_module": "@jupyter-widgets/controls",
          "model_name": "FloatProgressModel",
          "model_module_version": "1.5.0",
          "state": {
            "_dom_classes": [],
            "_model_module": "@jupyter-widgets/controls",
            "_model_module_version": "1.5.0",
            "_model_name": "FloatProgressModel",
            "_view_count": null,
            "_view_module": "@jupyter-widgets/controls",
            "_view_module_version": "1.5.0",
            "_view_name": "ProgressView",
            "bar_style": "success",
            "description": "",
            "description_tooltip": null,
            "layout": "IPY_MODEL_188b17c0f6ac4f15b33f885aa8f19fd8",
            "max": 895,
            "min": 0,
            "orientation": "horizontal",
            "style": "IPY_MODEL_4d287903d552446097ad29ea6fac8e52",
            "value": 895
          }
        },
        "f4eb4984b43941958cbe0bdce875141f": {
          "model_module": "@jupyter-widgets/controls",
          "model_name": "HTMLModel",
          "model_module_version": "1.5.0",
          "state": {
            "_dom_classes": [],
            "_model_module": "@jupyter-widgets/controls",
            "_model_module_version": "1.5.0",
            "_model_name": "HTMLModel",
            "_view_count": null,
            "_view_module": "@jupyter-widgets/controls",
            "_view_module_version": "1.5.0",
            "_view_name": "HTMLView",
            "description": "",
            "description_tooltip": null,
            "layout": "IPY_MODEL_88369d84acd24df69b9f09e7fcc6f305",
            "placeholder": "​",
            "style": "IPY_MODEL_8a2314aece344a6fb65c78e1856e027e",
            "value": " 895/895 [00:00&lt;00:00, 18.9kB/s]"
          }
        },
        "f61ed871daeb406a80d4c2106975a33b": {
          "model_module": "@jupyter-widgets/base",
          "model_name": "LayoutModel",
          "model_module_version": "1.2.0",
          "state": {
            "_model_module": "@jupyter-widgets/base",
            "_model_module_version": "1.2.0",
            "_model_name": "LayoutModel",
            "_view_count": null,
            "_view_module": "@jupyter-widgets/base",
            "_view_module_version": "1.2.0",
            "_view_name": "LayoutView",
            "align_content": null,
            "align_items": null,
            "align_self": null,
            "border": null,
            "bottom": null,
            "display": null,
            "flex": null,
            "flex_flow": null,
            "grid_area": null,
            "grid_auto_columns": null,
            "grid_auto_flow": null,
            "grid_auto_rows": null,
            "grid_column": null,
            "grid_gap": null,
            "grid_row": null,
            "grid_template_areas": null,
            "grid_template_columns": null,
            "grid_template_rows": null,
            "height": null,
            "justify_content": null,
            "justify_items": null,
            "left": null,
            "margin": null,
            "max_height": null,
            "max_width": null,
            "min_height": null,
            "min_width": null,
            "object_fit": null,
            "object_position": null,
            "order": null,
            "overflow": null,
            "overflow_x": null,
            "overflow_y": null,
            "padding": null,
            "right": null,
            "top": null,
            "visibility": null,
            "width": null
          }
        },
        "88de05eb56ec40cab21eeacb1c613f82": {
          "model_module": "@jupyter-widgets/controls",
          "model_name": "HBoxModel",
          "model_module_version": "1.5.0",
          "state": {
            "_dom_classes": [],
            "_model_module": "@jupyter-widgets/controls",
            "_model_module_version": "1.5.0",
            "_model_name": "HBoxModel",
            "_view_count": null,
            "_view_module": "@jupyter-widgets/controls",
            "_view_module_version": "1.5.0",
            "_view_name": "HBoxView",
            "box_style": "",
            "children": [
              "IPY_MODEL_2629b6697a874ef4adeec4e2fe629498",
              "IPY_MODEL_a77af89309074dcb95e27aa81902f48a",
              "IPY_MODEL_a0f97b2f804b497f8e56069f5c463b2d"
            ],
            "layout": "IPY_MODEL_8d6a925a35b54e9e905d58fe9f228be1"
          }
        },
        "3f48b93e08284cc79aa26e4706f4a372": {
          "model_module": "@jupyter-widgets/base",
          "model_name": "LayoutModel",
          "model_module_version": "1.2.0",
          "state": {
            "_model_module": "@jupyter-widgets/base",
            "_model_module_version": "1.2.0",
            "_model_name": "LayoutModel",
            "_view_count": null,
            "_view_module": "@jupyter-widgets/base",
            "_view_module_version": "1.2.0",
            "_view_name": "LayoutView",
            "align_content": null,
            "align_items": null,
            "align_self": null,
            "border": null,
            "bottom": null,
            "display": null,
            "flex": null,
            "flex_flow": null,
            "grid_area": null,
            "grid_auto_columns": null,
            "grid_auto_flow": null,
            "grid_auto_rows": null,
            "grid_column": null,
            "grid_gap": null,
            "grid_row": null,
            "grid_template_areas": null,
            "grid_template_columns": null,
            "grid_template_rows": null,
            "height": null,
            "justify_content": null,
            "justify_items": null,
            "left": null,
            "margin": null,
            "max_height": null,
            "max_width": null,
            "min_height": null,
            "min_width": null,
            "object_fit": null,
            "object_position": null,
            "order": null,
            "overflow": null,
            "overflow_x": null,
            "overflow_y": null,
            "padding": null,
            "right": null,
            "top": null,
            "visibility": null,
            "width": null
          }
        },
        "89282262d1d24feeaf601045f87d0847": {
          "model_module": "@jupyter-widgets/controls",
          "model_name": "DescriptionStyleModel",
          "model_module_version": "1.5.0",
          "state": {
            "_model_module": "@jupyter-widgets/controls",
            "_model_module_version": "1.5.0",
            "_model_name": "DescriptionStyleModel",
            "_view_count": null,
            "_view_module": "@jupyter-widgets/base",
            "_view_module_version": "1.2.0",
            "_view_name": "StyleView",
            "description_width": ""
          }
        },
        "188b17c0f6ac4f15b33f885aa8f19fd8": {
          "model_module": "@jupyter-widgets/base",
          "model_name": "LayoutModel",
          "model_module_version": "1.2.0",
          "state": {
            "_model_module": "@jupyter-widgets/base",
            "_model_module_version": "1.2.0",
            "_model_name": "LayoutModel",
            "_view_count": null,
            "_view_module": "@jupyter-widgets/base",
            "_view_module_version": "1.2.0",
            "_view_name": "LayoutView",
            "align_content": null,
            "align_items": null,
            "align_self": null,
            "border": null,
            "bottom": null,
            "display": null,
            "flex": null,
            "flex_flow": null,
            "grid_area": null,
            "grid_auto_columns": null,
            "grid_auto_flow": null,
            "grid_auto_rows": null,
            "grid_column": null,
            "grid_gap": null,
            "grid_row": null,
            "grid_template_areas": null,
            "grid_template_columns": null,
            "grid_template_rows": null,
            "height": null,
            "justify_content": null,
            "justify_items": null,
            "left": null,
            "margin": null,
            "max_height": null,
            "max_width": null,
            "min_height": null,
            "min_width": null,
            "object_fit": null,
            "object_position": null,
            "order": null,
            "overflow": null,
            "overflow_x": null,
            "overflow_y": null,
            "padding": null,
            "right": null,
            "top": null,
            "visibility": null,
            "width": null
          }
        },
        "4d287903d552446097ad29ea6fac8e52": {
          "model_module": "@jupyter-widgets/controls",
          "model_name": "ProgressStyleModel",
          "model_module_version": "1.5.0",
          "state": {
            "_model_module": "@jupyter-widgets/controls",
            "_model_module_version": "1.5.0",
            "_model_name": "ProgressStyleModel",
            "_view_count": null,
            "_view_module": "@jupyter-widgets/base",
            "_view_module_version": "1.2.0",
            "_view_name": "StyleView",
            "bar_color": null,
            "description_width": ""
          }
        },
        "88369d84acd24df69b9f09e7fcc6f305": {
          "model_module": "@jupyter-widgets/base",
          "model_name": "LayoutModel",
          "model_module_version": "1.2.0",
          "state": {
            "_model_module": "@jupyter-widgets/base",
            "_model_module_version": "1.2.0",
            "_model_name": "LayoutModel",
            "_view_count": null,
            "_view_module": "@jupyter-widgets/base",
            "_view_module_version": "1.2.0",
            "_view_name": "LayoutView",
            "align_content": null,
            "align_items": null,
            "align_self": null,
            "border": null,
            "bottom": null,
            "display": null,
            "flex": null,
            "flex_flow": null,
            "grid_area": null,
            "grid_auto_columns": null,
            "grid_auto_flow": null,
            "grid_auto_rows": null,
            "grid_column": null,
            "grid_gap": null,
            "grid_row": null,
            "grid_template_areas": null,
            "grid_template_columns": null,
            "grid_template_rows": null,
            "height": null,
            "justify_content": null,
            "justify_items": null,
            "left": null,
            "margin": null,
            "max_height": null,
            "max_width": null,
            "min_height": null,
            "min_width": null,
            "object_fit": null,
            "object_position": null,
            "order": null,
            "overflow": null,
            "overflow_x": null,
            "overflow_y": null,
            "padding": null,
            "right": null,
            "top": null,
            "visibility": null,
            "width": null
          }
        },
        "8a2314aece344a6fb65c78e1856e027e": {
          "model_module": "@jupyter-widgets/controls",
          "model_name": "DescriptionStyleModel",
          "model_module_version": "1.5.0",
          "state": {
            "_model_module": "@jupyter-widgets/controls",
            "_model_module_version": "1.5.0",
            "_model_name": "DescriptionStyleModel",
            "_view_count": null,
            "_view_module": "@jupyter-widgets/base",
            "_view_module_version": "1.2.0",
            "_view_name": "StyleView",
            "description_width": ""
          }
        },
        "2629b6697a874ef4adeec4e2fe629498": {
          "model_module": "@jupyter-widgets/controls",
          "model_name": "HTMLModel",
          "model_module_version": "1.5.0",
          "state": {
            "_dom_classes": [],
            "_model_module": "@jupyter-widgets/controls",
            "_model_module_version": "1.5.0",
            "_model_name": "HTMLModel",
            "_view_count": null,
            "_view_module": "@jupyter-widgets/controls",
            "_view_module_version": "1.5.0",
            "_view_name": "HTMLView",
            "description": "",
            "description_tooltip": null,
            "layout": "IPY_MODEL_f316d08e94f34009b1ad31e7f54d6f8e",
            "placeholder": "​",
            "style": "IPY_MODEL_c8d957b4d0d04d06b96d07322fdc366d",
            "value": "Downloading: 100%"
          }
        },
        "a77af89309074dcb95e27aa81902f48a": {
          "model_module": "@jupyter-widgets/controls",
          "model_name": "FloatProgressModel",
          "model_module_version": "1.5.0",
          "state": {
            "_dom_classes": [],
            "_model_module": "@jupyter-widgets/controls",
            "_model_module_version": "1.5.0",
            "_model_name": "FloatProgressModel",
            "_view_count": null,
            "_view_module": "@jupyter-widgets/controls",
            "_view_module_version": "1.5.0",
            "_view_name": "ProgressView",
            "bar_style": "success",
            "description": "",
            "description_tooltip": null,
            "layout": "IPY_MODEL_7434ffb54eaa441da245f07ce7fe9ce2",
            "max": 231508,
            "min": 0,
            "orientation": "horizontal",
            "style": "IPY_MODEL_0206ed6275e84deda3dc745b4f47bdcd",
            "value": 231508
          }
        },
        "a0f97b2f804b497f8e56069f5c463b2d": {
          "model_module": "@jupyter-widgets/controls",
          "model_name": "HTMLModel",
          "model_module_version": "1.5.0",
          "state": {
            "_dom_classes": [],
            "_model_module": "@jupyter-widgets/controls",
            "_model_module_version": "1.5.0",
            "_model_name": "HTMLModel",
            "_view_count": null,
            "_view_module": "@jupyter-widgets/controls",
            "_view_module_version": "1.5.0",
            "_view_name": "HTMLView",
            "description": "",
            "description_tooltip": null,
            "layout": "IPY_MODEL_b3e58566c257424dad609f5d34fc8803",
            "placeholder": "​",
            "style": "IPY_MODEL_c5c567c8a2c54e2196f96a6b56193fe5",
            "value": " 226k/226k [00:00&lt;00:00, 1.36MB/s]"
          }
        },
        "8d6a925a35b54e9e905d58fe9f228be1": {
          "model_module": "@jupyter-widgets/base",
          "model_name": "LayoutModel",
          "model_module_version": "1.2.0",
          "state": {
            "_model_module": "@jupyter-widgets/base",
            "_model_module_version": "1.2.0",
            "_model_name": "LayoutModel",
            "_view_count": null,
            "_view_module": "@jupyter-widgets/base",
            "_view_module_version": "1.2.0",
            "_view_name": "LayoutView",
            "align_content": null,
            "align_items": null,
            "align_self": null,
            "border": null,
            "bottom": null,
            "display": null,
            "flex": null,
            "flex_flow": null,
            "grid_area": null,
            "grid_auto_columns": null,
            "grid_auto_flow": null,
            "grid_auto_rows": null,
            "grid_column": null,
            "grid_gap": null,
            "grid_row": null,
            "grid_template_areas": null,
            "grid_template_columns": null,
            "grid_template_rows": null,
            "height": null,
            "justify_content": null,
            "justify_items": null,
            "left": null,
            "margin": null,
            "max_height": null,
            "max_width": null,
            "min_height": null,
            "min_width": null,
            "object_fit": null,
            "object_position": null,
            "order": null,
            "overflow": null,
            "overflow_x": null,
            "overflow_y": null,
            "padding": null,
            "right": null,
            "top": null,
            "visibility": null,
            "width": null
          }
        },
        "f316d08e94f34009b1ad31e7f54d6f8e": {
          "model_module": "@jupyter-widgets/base",
          "model_name": "LayoutModel",
          "model_module_version": "1.2.0",
          "state": {
            "_model_module": "@jupyter-widgets/base",
            "_model_module_version": "1.2.0",
            "_model_name": "LayoutModel",
            "_view_count": null,
            "_view_module": "@jupyter-widgets/base",
            "_view_module_version": "1.2.0",
            "_view_name": "LayoutView",
            "align_content": null,
            "align_items": null,
            "align_self": null,
            "border": null,
            "bottom": null,
            "display": null,
            "flex": null,
            "flex_flow": null,
            "grid_area": null,
            "grid_auto_columns": null,
            "grid_auto_flow": null,
            "grid_auto_rows": null,
            "grid_column": null,
            "grid_gap": null,
            "grid_row": null,
            "grid_template_areas": null,
            "grid_template_columns": null,
            "grid_template_rows": null,
            "height": null,
            "justify_content": null,
            "justify_items": null,
            "left": null,
            "margin": null,
            "max_height": null,
            "max_width": null,
            "min_height": null,
            "min_width": null,
            "object_fit": null,
            "object_position": null,
            "order": null,
            "overflow": null,
            "overflow_x": null,
            "overflow_y": null,
            "padding": null,
            "right": null,
            "top": null,
            "visibility": null,
            "width": null
          }
        },
        "c8d957b4d0d04d06b96d07322fdc366d": {
          "model_module": "@jupyter-widgets/controls",
          "model_name": "DescriptionStyleModel",
          "model_module_version": "1.5.0",
          "state": {
            "_model_module": "@jupyter-widgets/controls",
            "_model_module_version": "1.5.0",
            "_model_name": "DescriptionStyleModel",
            "_view_count": null,
            "_view_module": "@jupyter-widgets/base",
            "_view_module_version": "1.2.0",
            "_view_name": "StyleView",
            "description_width": ""
          }
        },
        "7434ffb54eaa441da245f07ce7fe9ce2": {
          "model_module": "@jupyter-widgets/base",
          "model_name": "LayoutModel",
          "model_module_version": "1.2.0",
          "state": {
            "_model_module": "@jupyter-widgets/base",
            "_model_module_version": "1.2.0",
            "_model_name": "LayoutModel",
            "_view_count": null,
            "_view_module": "@jupyter-widgets/base",
            "_view_module_version": "1.2.0",
            "_view_name": "LayoutView",
            "align_content": null,
            "align_items": null,
            "align_self": null,
            "border": null,
            "bottom": null,
            "display": null,
            "flex": null,
            "flex_flow": null,
            "grid_area": null,
            "grid_auto_columns": null,
            "grid_auto_flow": null,
            "grid_auto_rows": null,
            "grid_column": null,
            "grid_gap": null,
            "grid_row": null,
            "grid_template_areas": null,
            "grid_template_columns": null,
            "grid_template_rows": null,
            "height": null,
            "justify_content": null,
            "justify_items": null,
            "left": null,
            "margin": null,
            "max_height": null,
            "max_width": null,
            "min_height": null,
            "min_width": null,
            "object_fit": null,
            "object_position": null,
            "order": null,
            "overflow": null,
            "overflow_x": null,
            "overflow_y": null,
            "padding": null,
            "right": null,
            "top": null,
            "visibility": null,
            "width": null
          }
        },
        "0206ed6275e84deda3dc745b4f47bdcd": {
          "model_module": "@jupyter-widgets/controls",
          "model_name": "ProgressStyleModel",
          "model_module_version": "1.5.0",
          "state": {
            "_model_module": "@jupyter-widgets/controls",
            "_model_module_version": "1.5.0",
            "_model_name": "ProgressStyleModel",
            "_view_count": null,
            "_view_module": "@jupyter-widgets/base",
            "_view_module_version": "1.2.0",
            "_view_name": "StyleView",
            "bar_color": null,
            "description_width": ""
          }
        },
        "b3e58566c257424dad609f5d34fc8803": {
          "model_module": "@jupyter-widgets/base",
          "model_name": "LayoutModel",
          "model_module_version": "1.2.0",
          "state": {
            "_model_module": "@jupyter-widgets/base",
            "_model_module_version": "1.2.0",
            "_model_name": "LayoutModel",
            "_view_count": null,
            "_view_module": "@jupyter-widgets/base",
            "_view_module_version": "1.2.0",
            "_view_name": "LayoutView",
            "align_content": null,
            "align_items": null,
            "align_self": null,
            "border": null,
            "bottom": null,
            "display": null,
            "flex": null,
            "flex_flow": null,
            "grid_area": null,
            "grid_auto_columns": null,
            "grid_auto_flow": null,
            "grid_auto_rows": null,
            "grid_column": null,
            "grid_gap": null,
            "grid_row": null,
            "grid_template_areas": null,
            "grid_template_columns": null,
            "grid_template_rows": null,
            "height": null,
            "justify_content": null,
            "justify_items": null,
            "left": null,
            "margin": null,
            "max_height": null,
            "max_width": null,
            "min_height": null,
            "min_width": null,
            "object_fit": null,
            "object_position": null,
            "order": null,
            "overflow": null,
            "overflow_x": null,
            "overflow_y": null,
            "padding": null,
            "right": null,
            "top": null,
            "visibility": null,
            "width": null
          }
        },
        "c5c567c8a2c54e2196f96a6b56193fe5": {
          "model_module": "@jupyter-widgets/controls",
          "model_name": "DescriptionStyleModel",
          "model_module_version": "1.5.0",
          "state": {
            "_model_module": "@jupyter-widgets/controls",
            "_model_module_version": "1.5.0",
            "_model_name": "DescriptionStyleModel",
            "_view_count": null,
            "_view_module": "@jupyter-widgets/base",
            "_view_module_version": "1.2.0",
            "_view_name": "StyleView",
            "description_width": ""
          }
        },
        "cc05e35ad499413a8d13357703b8fc43": {
          "model_module": "@jupyter-widgets/controls",
          "model_name": "HBoxModel",
          "model_module_version": "1.5.0",
          "state": {
            "_dom_classes": [],
            "_model_module": "@jupyter-widgets/controls",
            "_model_module_version": "1.5.0",
            "_model_name": "HBoxModel",
            "_view_count": null,
            "_view_module": "@jupyter-widgets/controls",
            "_view_module_version": "1.5.0",
            "_view_name": "HBoxView",
            "box_style": "",
            "children": [
              "IPY_MODEL_15b220f0cbcc49b1bc9d5498eda86a7e",
              "IPY_MODEL_abc4cd849bc64c10bc0ea2c67846e6b5",
              "IPY_MODEL_af5ed52691f94458ae6e980dbf3fb694"
            ],
            "layout": "IPY_MODEL_1adf379668064284a231fe8eda637e11"
          }
        },
        "15b220f0cbcc49b1bc9d5498eda86a7e": {
          "model_module": "@jupyter-widgets/controls",
          "model_name": "HTMLModel",
          "model_module_version": "1.5.0",
          "state": {
            "_dom_classes": [],
            "_model_module": "@jupyter-widgets/controls",
            "_model_module_version": "1.5.0",
            "_model_name": "HTMLModel",
            "_view_count": null,
            "_view_module": "@jupyter-widgets/controls",
            "_view_module_version": "1.5.0",
            "_view_name": "HTMLView",
            "description": "",
            "description_tooltip": null,
            "layout": "IPY_MODEL_2ea005b985644b3494b2ba4992c9228f",
            "placeholder": "​",
            "style": "IPY_MODEL_734309def32e431e8886fb448a772b8f",
            "value": "Downloading: 100%"
          }
        },
        "abc4cd849bc64c10bc0ea2c67846e6b5": {
          "model_module": "@jupyter-widgets/controls",
          "model_name": "FloatProgressModel",
          "model_module_version": "1.5.0",
          "state": {
            "_dom_classes": [],
            "_model_module": "@jupyter-widgets/controls",
            "_model_module_version": "1.5.0",
            "_model_name": "FloatProgressModel",
            "_view_count": null,
            "_view_module": "@jupyter-widgets/controls",
            "_view_module_version": "1.5.0",
            "_view_name": "ProgressView",
            "bar_style": "success",
            "description": "",
            "description_tooltip": null,
            "layout": "IPY_MODEL_358363d3a2d74bc8acc8dd6bc6ca7280",
            "max": 435676663,
            "min": 0,
            "orientation": "horizontal",
            "style": "IPY_MODEL_24fc707e09f84ceda06e115aaa599cef",
            "value": 435676663
          }
        },
        "af5ed52691f94458ae6e980dbf3fb694": {
          "model_module": "@jupyter-widgets/controls",
          "model_name": "HTMLModel",
          "model_module_version": "1.5.0",
          "state": {
            "_dom_classes": [],
            "_model_module": "@jupyter-widgets/controls",
            "_model_module_version": "1.5.0",
            "_model_name": "HTMLModel",
            "_view_count": null,
            "_view_module": "@jupyter-widgets/controls",
            "_view_module_version": "1.5.0",
            "_view_name": "HTMLView",
            "description": "",
            "description_tooltip": null,
            "layout": "IPY_MODEL_a4878b114b594d6eb905055c4500fd2e",
            "placeholder": "​",
            "style": "IPY_MODEL_d798c388230042a39154f93682c9e33b",
            "value": " 415M/415M [00:11&lt;00:00, 34.7MB/s]"
          }
        },
        "1adf379668064284a231fe8eda637e11": {
          "model_module": "@jupyter-widgets/base",
          "model_name": "LayoutModel",
          "model_module_version": "1.2.0",
          "state": {
            "_model_module": "@jupyter-widgets/base",
            "_model_module_version": "1.2.0",
            "_model_name": "LayoutModel",
            "_view_count": null,
            "_view_module": "@jupyter-widgets/base",
            "_view_module_version": "1.2.0",
            "_view_name": "LayoutView",
            "align_content": null,
            "align_items": null,
            "align_self": null,
            "border": null,
            "bottom": null,
            "display": null,
            "flex": null,
            "flex_flow": null,
            "grid_area": null,
            "grid_auto_columns": null,
            "grid_auto_flow": null,
            "grid_auto_rows": null,
            "grid_column": null,
            "grid_gap": null,
            "grid_row": null,
            "grid_template_areas": null,
            "grid_template_columns": null,
            "grid_template_rows": null,
            "height": null,
            "justify_content": null,
            "justify_items": null,
            "left": null,
            "margin": null,
            "max_height": null,
            "max_width": null,
            "min_height": null,
            "min_width": null,
            "object_fit": null,
            "object_position": null,
            "order": null,
            "overflow": null,
            "overflow_x": null,
            "overflow_y": null,
            "padding": null,
            "right": null,
            "top": null,
            "visibility": null,
            "width": null
          }
        },
        "2ea005b985644b3494b2ba4992c9228f": {
          "model_module": "@jupyter-widgets/base",
          "model_name": "LayoutModel",
          "model_module_version": "1.2.0",
          "state": {
            "_model_module": "@jupyter-widgets/base",
            "_model_module_version": "1.2.0",
            "_model_name": "LayoutModel",
            "_view_count": null,
            "_view_module": "@jupyter-widgets/base",
            "_view_module_version": "1.2.0",
            "_view_name": "LayoutView",
            "align_content": null,
            "align_items": null,
            "align_self": null,
            "border": null,
            "bottom": null,
            "display": null,
            "flex": null,
            "flex_flow": null,
            "grid_area": null,
            "grid_auto_columns": null,
            "grid_auto_flow": null,
            "grid_auto_rows": null,
            "grid_column": null,
            "grid_gap": null,
            "grid_row": null,
            "grid_template_areas": null,
            "grid_template_columns": null,
            "grid_template_rows": null,
            "height": null,
            "justify_content": null,
            "justify_items": null,
            "left": null,
            "margin": null,
            "max_height": null,
            "max_width": null,
            "min_height": null,
            "min_width": null,
            "object_fit": null,
            "object_position": null,
            "order": null,
            "overflow": null,
            "overflow_x": null,
            "overflow_y": null,
            "padding": null,
            "right": null,
            "top": null,
            "visibility": null,
            "width": null
          }
        },
        "734309def32e431e8886fb448a772b8f": {
          "model_module": "@jupyter-widgets/controls",
          "model_name": "DescriptionStyleModel",
          "model_module_version": "1.5.0",
          "state": {
            "_model_module": "@jupyter-widgets/controls",
            "_model_module_version": "1.5.0",
            "_model_name": "DescriptionStyleModel",
            "_view_count": null,
            "_view_module": "@jupyter-widgets/base",
            "_view_module_version": "1.2.0",
            "_view_name": "StyleView",
            "description_width": ""
          }
        },
        "358363d3a2d74bc8acc8dd6bc6ca7280": {
          "model_module": "@jupyter-widgets/base",
          "model_name": "LayoutModel",
          "model_module_version": "1.2.0",
          "state": {
            "_model_module": "@jupyter-widgets/base",
            "_model_module_version": "1.2.0",
            "_model_name": "LayoutModel",
            "_view_count": null,
            "_view_module": "@jupyter-widgets/base",
            "_view_module_version": "1.2.0",
            "_view_name": "LayoutView",
            "align_content": null,
            "align_items": null,
            "align_self": null,
            "border": null,
            "bottom": null,
            "display": null,
            "flex": null,
            "flex_flow": null,
            "grid_area": null,
            "grid_auto_columns": null,
            "grid_auto_flow": null,
            "grid_auto_rows": null,
            "grid_column": null,
            "grid_gap": null,
            "grid_row": null,
            "grid_template_areas": null,
            "grid_template_columns": null,
            "grid_template_rows": null,
            "height": null,
            "justify_content": null,
            "justify_items": null,
            "left": null,
            "margin": null,
            "max_height": null,
            "max_width": null,
            "min_height": null,
            "min_width": null,
            "object_fit": null,
            "object_position": null,
            "order": null,
            "overflow": null,
            "overflow_x": null,
            "overflow_y": null,
            "padding": null,
            "right": null,
            "top": null,
            "visibility": null,
            "width": null
          }
        },
        "24fc707e09f84ceda06e115aaa599cef": {
          "model_module": "@jupyter-widgets/controls",
          "model_name": "ProgressStyleModel",
          "model_module_version": "1.5.0",
          "state": {
            "_model_module": "@jupyter-widgets/controls",
            "_model_module_version": "1.5.0",
            "_model_name": "ProgressStyleModel",
            "_view_count": null,
            "_view_module": "@jupyter-widgets/base",
            "_view_module_version": "1.2.0",
            "_view_name": "StyleView",
            "bar_color": null,
            "description_width": ""
          }
        },
        "a4878b114b594d6eb905055c4500fd2e": {
          "model_module": "@jupyter-widgets/base",
          "model_name": "LayoutModel",
          "model_module_version": "1.2.0",
          "state": {
            "_model_module": "@jupyter-widgets/base",
            "_model_module_version": "1.2.0",
            "_model_name": "LayoutModel",
            "_view_count": null,
            "_view_module": "@jupyter-widgets/base",
            "_view_module_version": "1.2.0",
            "_view_name": "LayoutView",
            "align_content": null,
            "align_items": null,
            "align_self": null,
            "border": null,
            "bottom": null,
            "display": null,
            "flex": null,
            "flex_flow": null,
            "grid_area": null,
            "grid_auto_columns": null,
            "grid_auto_flow": null,
            "grid_auto_rows": null,
            "grid_column": null,
            "grid_gap": null,
            "grid_row": null,
            "grid_template_areas": null,
            "grid_template_columns": null,
            "grid_template_rows": null,
            "height": null,
            "justify_content": null,
            "justify_items": null,
            "left": null,
            "margin": null,
            "max_height": null,
            "max_width": null,
            "min_height": null,
            "min_width": null,
            "object_fit": null,
            "object_position": null,
            "order": null,
            "overflow": null,
            "overflow_x": null,
            "overflow_y": null,
            "padding": null,
            "right": null,
            "top": null,
            "visibility": null,
            "width": null
          }
        },
        "d798c388230042a39154f93682c9e33b": {
          "model_module": "@jupyter-widgets/controls",
          "model_name": "DescriptionStyleModel",
          "model_module_version": "1.5.0",
          "state": {
            "_model_module": "@jupyter-widgets/controls",
            "_model_module_version": "1.5.0",
            "_model_name": "DescriptionStyleModel",
            "_view_count": null,
            "_view_module": "@jupyter-widgets/base",
            "_view_module_version": "1.2.0",
            "_view_name": "StyleView",
            "description_width": ""
          }
        }
      }
    }
  },
  "nbformat": 4,
  "nbformat_minor": 0
}