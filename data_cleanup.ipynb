{
 "cells": [
  {
   "cell_type": "code",
   "execution_count": 1,
   "id": "1ebc7705-d1e1-4f86-9594-bf18b925f200",
   "metadata": {},
   "outputs": [],
   "source": [
    "import json"
   ]
  },
  {
   "cell_type": "code",
   "execution_count": 2,
   "id": "39bc4daa-42ab-462f-94b3-3c3a030630c0",
   "metadata": {},
   "outputs": [],
   "source": [
    "all_files = !find ./../data -iname \"*.json\"|xargs -I{} realpath {}"
   ]
  },
  {
   "cell_type": "code",
   "execution_count": 3,
   "id": "304313b6-9a4d-4aa8-9b56-a2f61ad274fe",
   "metadata": {},
   "outputs": [],
   "source": [
    "from collections import defaultdict\n",
    "tweet_data = defaultdict(set)\n",
    "for file in all_files:\n",
    "    with open(file, 'r') as fp:\n",
    "        for line in fp.readlines():\n",
    "            cur_data = json.loads(line)\n",
    "            brand = cur_data['name']\n",
    "            tweet_data[brand].add(cur_data['tweet'])"
   ]
  },
  {
   "cell_type": "code",
   "execution_count": 4,
   "id": "fada8309-2958-4455-8b3e-a9b668f45a7d",
   "metadata": {},
   "outputs": [
    {
     "name": "stdout",
     "output_type": "stream",
     "text": [
      "Pampers 3220\n",
      "Gillette 3223\n",
      "Tide 3220\n"
     ]
    }
   ],
   "source": [
    "for brand, tweet in tweet_data.items():\n",
    "    print(brand, len(tweet))"
   ]
  },
  {
   "cell_type": "code",
   "execution_count": 5,
   "id": "e699e8eb-8615-4fa1-a40c-25c249cfd866",
   "metadata": {},
   "outputs": [],
   "source": [
    "from sentence_transformers import SentenceTransformer\n",
    "\n",
    "model_name = 'multi-qa-mpnet-base-dot-v1'\n",
    "\n",
    "model = SentenceTransformer(model_name)\n",
    "#embeds = model.encode(list(tweet_data['Pampers']))"
   ]
  },
  {
   "cell_type": "code",
   "execution_count": 20,
   "id": "734d2b80-7df1-43c7-b05c-9665dd7fa488",
   "metadata": {},
   "outputs": [
    {
     "name": "stdout",
     "output_type": "stream",
     "text": [
      "done\n",
      "done\n",
      "done\n"
     ]
    }
   ],
   "source": [
    "tweet_embs = dict()\n",
    "for brand, tweets in tweet_data.items():\n",
    "    embeds = model.encode(list(tweet_data[brand]), convert_to_numpy=True, batch_size=8)\n",
    "    tweet_embs[brand] = embeds\n",
    "    print(\"done\")"
   ]
  },
  {
   "cell_type": "code",
   "execution_count": 21,
   "id": "0123a6de-34c1-4dcc-9508-db38bfa34b4a",
   "metadata": {},
   "outputs": [],
   "source": [
    "import pickle\n",
    "with open(\"embeds.pkl\", \"wb\") as fp:\n",
    "    pickle.dump(tweet_embs, fp)"
   ]
  },
  {
   "cell_type": "code",
   "execution_count": 25,
   "id": "4d694742-c483-4e11-ac60-cbcc80de5be3",
   "metadata": {},
   "outputs": [
    {
     "data": {
      "text/plain": [
       "(768,)"
      ]
     },
     "execution_count": 25,
     "metadata": {},
     "output_type": "execute_result"
    }
   ],
   "source": [
    "tweet_embs['Pampers'][0].shape"
   ]
  },
  {
   "cell_type": "code",
   "execution_count": 46,
   "id": "ab8b94cd-be4d-4441-b91f-4455dfedb146",
   "metadata": {},
   "outputs": [
    {
     "data": {
      "text/plain": [
       "True"
      ]
     },
     "execution_count": 46,
     "metadata": {},
     "output_type": "execute_result"
    }
   ],
   "source": [
    "import annoy\n",
    "from annoy import AnnoyIndex\n",
    "import random\n",
    "\n",
    "f = 768\n",
    "t = AnnoyIndex(f, 'angular')  # Length of item vector that will be indexed\n",
    "for i in range(len(tweet_embs['Tide'])):\n",
    "    t.add_item(i, tweet_embs['Tide'][i])\n",
    "\n",
    "t.build(200)"
   ]
  },
  {
   "cell_type": "code",
   "execution_count": 47,
   "id": "0abee09c-77f5-42a3-a07e-7733d7e60085",
   "metadata": {},
   "outputs": [
    {
     "data": {
      "text/plain": [
       "True"
      ]
     },
     "execution_count": 47,
     "metadata": {},
     "output_type": "execute_result"
    }
   ],
   "source": [
    "t.save('./models/tide.ann')"
   ]
  },
  {
   "cell_type": "code",
   "execution_count": null,
   "id": "3c29b3fc-7094-4c71-9148-3a72c1c94e5f",
   "metadata": {},
   "outputs": [],
   "source": []
  },
  {
   "cell_type": "code",
   "execution_count": 49,
   "id": "9ff82b92-9627-4d19-9d00-6cdea4aa5bef",
   "metadata": {},
   "outputs": [],
   "source": [
    "with open(\"./data/tweets_dump.json\", 'w') as fp:\n",
    "    json.dump({k:list(v) for k, v in tweet_data.items()}, fp)"
   ]
  },
  {
   "cell_type": "code",
   "execution_count": 42,
   "id": "41a91522-9596-46ae-b0d9-d4d1fbf32f1a",
   "metadata": {},
   "outputs": [
    {
     "name": "stdout",
     "output_type": "stream",
     "text": [
      "Thanks for reaching out to us at Pampers. We're pleased you thought of us. Babies in our ads are selected by the advertising agencies we use. If you would like your child to be in an advertisement, we'd recommend getting in touch with a nearby modeling or talent agency.\n",
      "++++++++++++++++++++++++++++++++++++++++++++++++++\n",
      "We're so glad that you'd like your little one to represent Pampers! The babies in our ads are selected by the advertising agencies we use. If you would like your child to be in an advertisement, we'd recommend getting in touch with a nearby modeling or talent agency. Good luck💚\n",
      "++++++++++++++++++++++++++++++++++++++++++++++++++\n",
      "How adorable is this! 🤗 We're so happy you want your baby to represent Pampers! The babies in our ads are selected by the advertising agencies we use. If you would like your child to be in an advertisement, we'd recommend getting in touch with a nearby modeling or talent agency.\n",
      "++++++++++++++++++++++++++++++++++++++++++++++++++\n"
     ]
    }
   ],
   "source": [
    "import re\n",
    "emb = model.encode(\"Can my baby advertise for pampers?\")\n",
    "best_3 = t.get_nns_by_vector(emb, 3)\n",
    "for idx in best_3:\n",
    "    print(re.sub(r\"(?:\\@)\\S+\", \"\", list(tweet_data['Pampers'])[idx]).strip())\n",
    "    print(\"+++++\"*10)"
   ]
  },
  {
   "cell_type": "code",
   "execution_count": null,
   "id": "972616f1-1813-4f73-9aeb-b0670aa4b8b7",
   "metadata": {},
   "outputs": [],
   "source": []
  }
 ],
 "metadata": {
  "kernelspec": {
   "display_name": "Python 3 (ipykernel)",
   "language": "python",
   "name": "python3"
  },
  "language_info": {
   "codemirror_mode": {
    "name": "ipython",
    "version": 3
   },
   "file_extension": ".py",
   "mimetype": "text/x-python",
   "name": "python",
   "nbconvert_exporter": "python",
   "pygments_lexer": "ipython3",
   "version": "3.9.7"
  }
 },
 "nbformat": 4,
 "nbformat_minor": 5
}
